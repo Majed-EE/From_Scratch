{
 "cells": [
  {
   "cell_type": "code",
   "execution_count": 1,
   "id": "f02a06d5",
   "metadata": {},
   "outputs": [],
   "source": [
    "import torch\n",
    "from torch import nn\n",
    "import torch.optim as optim\n",
    "import numpy as np\n",
    "from matplotlib import pyplot as plt\n"
   ]
  },
  {
   "cell_type": "code",
   "execution_count": 2,
   "id": "e7146913",
   "metadata": {},
   "outputs": [
    {
     "name": "stdout",
     "output_type": "stream",
     "text": [
      "cpu\n"
     ]
    }
   ],
   "source": [
    "device= \"cuda\" if torch.cuda.is_available() else \"cpu\"\n",
    "print(device)\n"
   ]
  },
  {
   "cell_type": "code",
   "execution_count": 16,
   "id": "571f1bee",
   "metadata": {},
   "outputs": [],
   "source": [
    "# i) learn how to model sequence-to-sequence learning problems using Recurrent Neural Networks."
   ]
  },
  {
   "cell_type": "code",
   "execution_count": 17,
   "id": "48df5c9a",
   "metadata": {},
   "outputs": [],
   "source": [
    "# ii) compare different cells such as vanilla RNN, LSTM and GRU.\n",
    "\n"
   ]
  },
  {
   "cell_type": "code",
   "execution_count": 18,
   "id": "2d7f482e",
   "metadata": {},
   "outputs": [
    {
     "name": "stdout",
     "output_type": "stream",
     "text": [
      "torch.Size([1000, 50]) torch.Size([1000, 50])\n"
     ]
    }
   ],
   "source": [
    "# Generate sine wave data\n",
    "def generate_data(seq_length, num_samples):\n",
    "    X = []\n",
    "    y = []\n",
    "    for i in range(num_samples):\n",
    "        x = np.linspace(i * 2 * np.pi, (i + 1) * 2 * np.pi, seq_length + 1)\n",
    "#         print(x.shape)\n",
    "        sine_wave = np.sin(x)\n",
    "        X.append(sine_wave[:-1])  # input sequence\n",
    "        y.append(sine_wave[1:])   # target sequence\n",
    "    return np.array(X), np.array(y)\n",
    "\n",
    "seq_length = 50\n",
    "num_samples = 1000\n",
    "X, y = generate_data(seq_length, num_samples)\n",
    "\n",
    "# Convert to PyTorch tensors\n",
    "X = torch.tensor(X, dtype=torch.float32)\n",
    "y = torch.tensor(y, dtype=torch.float32)\n",
    "\n",
    "print(X.shape, y.shape)  # Output: (1000, 50), (1000, 50)"
   ]
  },
  {
   "cell_type": "code",
   "execution_count": 19,
   "id": "cb6bcefb",
   "metadata": {},
   "outputs": [
    {
     "name": "stdout",
     "output_type": "stream",
     "text": [
      "torch.Size([50])\n",
      "torch.Size([1000, 50])\n"
     ]
    }
   ],
   "source": [
    "print(X[0].shape)\n",
    "print(X.unsqueeze(2).squeeze(2).shape)"
   ]
  },
  {
   "cell_type": "code",
   "execution_count": 20,
   "id": "cdc0093a",
   "metadata": {},
   "outputs": [],
   "source": [
    "# # Plot results\n",
    "# plt.figure(figsize=(10, 6))\n",
    "# plt.plot(X[0].numpy(), label='True')\n",
    "# plt.plot(y[0].numpy(), label='True')"
   ]
  },
  {
   "cell_type": "code",
   "execution_count": 21,
   "id": "01263750",
   "metadata": {},
   "outputs": [],
   "source": [
    "# vanella flavour\n",
    "import torch \n",
    "import torch.nn as nn\n",
    "\n",
    "    \n",
    "# Define model hyperparameters\n",
    "\n",
    "vocab_size = 50    # Size of the character vocabulary\n",
    "embedding_dim = 64 # Dimension of character embeddings\n",
    "hidden_dim = 128   # Dimension of RNN hidden state\n",
    "output_dim = 1    # Dimension of the output\n",
    "input_size=1 #number of expected features in x\n",
    "\n",
    "class SimpleRNN(nn.Module):\n",
    "    def __init__(self,input_size, hidden_dim, output_dim):\n",
    "        super(SimpleRNN,self).__init__()\n",
    "#         self.embedding=nn.Embedding(vocab_size,embedding_dim)\n",
    "        self.rnn=nn.RNN(input_size, hidden_size=hidden_dim)\n",
    "        self.fc=nn.Linear(hidden_dim,output_dim)\n",
    "        \n",
    "     \n",
    "    def forward(self,x):\n",
    "        encoder_output, hidden_state=self.rnn(x)\n",
    "#         print(\"hidden state is \")\n",
    "#         print(hidden_state.shape)\n",
    "#         print(\"encoder output\")\n",
    "#         print(encoder_output.shape)\n",
    "        output=self.fc(encoder_output)\n",
    "        return output"
   ]
  },
  {
   "cell_type": "code",
   "execution_count": 22,
   "id": "fa84e6f7",
   "metadata": {},
   "outputs": [
    {
     "name": "stdout",
     "output_type": "stream",
     "text": [
      "SimpleRNN(\n",
      "  (rnn): RNN(1, 128)\n",
      "  (fc): Linear(in_features=128, out_features=1, bias=True)\n",
      ")\n"
     ]
    }
   ],
   "source": [
    "\n",
    "model = SimpleRNN(input_size, hidden_dim, output_dim)\n",
    "print(model)"
   ]
  },
  {
   "cell_type": "code",
   "execution_count": 23,
   "id": "458fc8bc",
   "metadata": {},
   "outputs": [
    {
     "name": "stdout",
     "output_type": "stream",
     "text": [
      "torch.Size([1000, 50, 1])\n"
     ]
    }
   ],
   "source": [
    "model.eval()\n",
    "with torch.no_grad():\n",
    "    predictions = model(X.unsqueeze(2)) # why are we adding dimensions- Understood- this has only one input feature\n",
    "    print(predictions.shape)"
   ]
  },
  {
   "cell_type": "code",
   "execution_count": 24,
   "id": "2195015d",
   "metadata": {},
   "outputs": [
    {
     "name": "stdout",
     "output_type": "stream",
     "text": [
      "Epoch [10/100], Loss: 0.0338\n",
      "Epoch [20/100], Loss: 0.0272\n",
      "Epoch [30/100], Loss: 0.0096\n",
      "Epoch [40/100], Loss: 0.0112\n",
      "Epoch [50/100], Loss: 0.0089\n",
      "Epoch [60/100], Loss: 0.0090\n",
      "Epoch [70/100], Loss: 0.0088\n",
      "Epoch [80/100], Loss: 0.0087\n",
      "Epoch [90/100], Loss: 0.0087\n",
      "Epoch [100/100], Loss: 0.0086\n"
     ]
    }
   ],
   "source": [
    "criterion = nn.MSELoss()\n",
    "optimizer = optim.Adam(model.parameters(), lr=0.001)\n",
    "\n",
    "# Training loop\n",
    "num_epochs = 100\n",
    "for epoch in range(num_epochs):\n",
    "    model.train()\n",
    "    outputs = model(X.unsqueeze(2))  # Add a dimension for input size\n",
    "    loss = criterion(outputs, y.unsqueeze(2))\n",
    "    \n",
    "    optimizer.zero_grad()\n",
    "    loss.backward()\n",
    "    optimizer.step() # what does optimizer.step do- okay update the weight\n",
    "    \n",
    "    if (epoch + 1) % 10 == 0:\n",
    "        print(f'Epoch [{epoch+1}/{num_epochs}], Loss: {loss.item():.4f}')"
   ]
  },
  {
   "cell_type": "code",
   "execution_count": 25,
   "id": "ac0c92ff",
   "metadata": {},
   "outputs": [
    {
     "name": "stdout",
     "output_type": "stream",
     "text": [
      "Epoch [20/200], Loss: 0.2290\n",
      "Epoch [40/200], Loss: 0.0527\n",
      "Epoch [60/200], Loss: 0.0018\n",
      "Epoch [80/200], Loss: 0.0004\n",
      "Epoch [100/200], Loss: 0.0002\n",
      "Epoch [120/200], Loss: 0.0002\n",
      "Epoch [140/200], Loss: 0.0001\n",
      "Epoch [160/200], Loss: 0.0001\n",
      "Epoch [180/200], Loss: 0.0001\n",
      "Epoch [200/200], Loss: 0.0001\n"
     ]
    },
    {
     "data": {
      "image/png": "[encoded data removed]",
      "text/plain": [
       "<Figure size 640x480 with 1 Axes>"
      ]
     },
     "metadata": {},
     "output_type": "display_data"
    }
   ],
   "source": [
    "# vanilla GRU\n",
    "import numpy as np\n",
    "import torch\n",
    "import torch.nn as nn\n",
    "import torch.optim as optim\n",
    "import matplotlib.pyplot as plt\n",
    "\n",
    "# Generate sine wave data\n",
    "def generate_sine_wave(timesteps, steps_per_cycle=50, num_cycles=10):\n",
    "    x = np.linspace(0, num_cycles * 2 * np.pi, steps_per_cycle * num_cycles)\n",
    "    y = np.sin(x)\n",
    "    return y\n",
    "\n",
    "# Prepare the dataset for the GRU model\n",
    "def prepare_dataset(data, timesteps):\n",
    "    X, y = [], []\n",
    "    for i in range(len(data) - timesteps):\n",
    "        X.append(data[i:i + timesteps])\n",
    "        y.append(data[i + timesteps])\n",
    "    return np.array(X), np.array(y)\n",
    "\n",
    "# Define the GRU-based model\n",
    "class GRUModel(nn.Module):\n",
    "    def __init__(self, input_size, hidden_size, output_size):\n",
    "        super(GRUModel, self).__init__()\n",
    "        self.gru = nn.GRU(input_size, hidden_size)\n",
    "        self.fc = nn.Linear(hidden_size, output_size)\n",
    "    \n",
    "    def forward(self, x):\n",
    "        out, _ = self.gru(x)\n",
    "        out = self.fc(out[-1])\n",
    "        return out\n",
    "\n",
    "# Parameters\n",
    "timesteps = 50\n",
    "steps_per_cycle = 50\n",
    "num_cycles = 10\n",
    "hidden_size = 64\n",
    "output_size = 1\n",
    "learning_rate = 0.001\n",
    "num_epochs = 200\n",
    "\n",
    "# Generate and prepare the data\n",
    "y = generate_sine_wave(timesteps, steps_per_cycle, num_cycles)\n",
    "X, y = prepare_dataset(y, timesteps)\n",
    "\n",
    "# Convert to PyTorch tensors\n",
    "X = torch.tensor(X, dtype=torch.float32).unsqueeze(-1)  # (batch_size, timesteps, input_size) \n",
    "# add the output dimension\n",
    "y = torch.tensor(y, dtype=torch.float32).unsqueeze(-1)  # (batch_size, output_size)\n",
    "\n",
    "# Initialize the model, loss function, and optimizer\n",
    "model = GRUModel(input_size=1, hidden_size=hidden_size, output_size=output_size)\n",
    "criterion = nn.MSELoss()\n",
    "optimizer = optim.Adam(model.parameters(), lr=learning_rate)\n",
    "\n",
    "# Training loop\n",
    "for epoch in range(num_epochs):\n",
    "    model.train()\n",
    "    optimizer.zero_grad()\n",
    "    outputs = model(X.transpose(0, 1))  # (timesteps, batch_size, input_size)\n",
    "    loss = criterion(outputs, y)\n",
    "    loss.backward()\n",
    "    optimizer.step()\n",
    "\n",
    "    if (epoch + 1) % 20 == 0:\n",
    "        print(f'Epoch [{epoch + 1}/{num_epochs}], Loss: {loss.item():.4f}')\n",
    "\n",
    "# Predict and plot the results\n",
    "model.eval()\n",
    "with torch.no_grad():\n",
    "    predictions = model(X.transpose(0, 1)).numpy()\n",
    "\n",
    "plt.plot(y.numpy(), label='True Sine Wave')\n",
    "plt.plot(predictions, label='Predicted Sine Wave')\n",
    "plt.legend()\n",
    "plt.show()\n"
   ]
  },
  {
   "cell_type": "code",
   "execution_count": 30,
   "id": "6135b20c",
   "metadata": {},
   "outputs": [],
   "source": [
    "class SimpleLSTM(nn.Module):\n",
    "    def __init__(self,input_dim,hidden_dim, layer_dim,output_dim):\n",
    "        super(SimpleLSTM, self).__init__()\n",
    "        self.hidden_dim = hidden_dim\n",
    "        self.layer_dim = layer_dim # what is layer dim\n",
    "        self.lstm = nn.LSTM(input_dim, hidden_dim, layer_dim, batch_first=True)\n",
    "        self.fc = nn.Linear(hidden_dim, output_dim)\n",
    "\n",
    "    def forward(self, x, h0=None, c0=None):\n",
    "        # If hidden and cell states are not provided, initialize them as zeros\n",
    "        if h0 is None or c0 is None:\n",
    "            h0 = torch.zeros(self.layer_dim, x.size(0), self.hidden_dim).to(x.device)\n",
    "            c0 = torch.zeros(self.layer_dim, x.size(0), self.hidden_dim).to(x.device)\n",
    "        \n",
    "        # Forward pass through LSTM\n",
    "        out, (hn, cn) = self.lstm(x, (h0, c0))\n",
    "        out = self.fc(out[:, -1, :])  # Selecting the last output\n",
    "        return out, hn, cn"
   ]
  },
  {
   "cell_type": "code",
   "execution_count": 31,
   "id": "3713e294",
   "metadata": {},
   "outputs": [],
   "source": [
    "\n",
    "# Initialize model, loss, and optimizer\n",
    "model = SimpleLSTM(input_dim=1, hidden_dim=100, layer_dim=1, output_dim=1)\n",
    "criterion = nn.MSELoss()\n",
    "optimizer = torch.optim.Adam(model.parameters(), lr=0.01)"
   ]
  },
  {
   "cell_type": "code",
   "execution_count": 34,
   "id": "3450edf0",
   "metadata": {},
   "outputs": [
    {
     "name": "stdout",
     "output_type": "stream",
     "text": [
      "Epoch [10/100], Loss: 0.2038\n",
      "Epoch [20/100], Loss: 0.0097\n",
      "Epoch [30/100], Loss: 0.0052\n",
      "Epoch [40/100], Loss: 0.0004\n",
      "Epoch [50/100], Loss: 0.0005\n",
      "Epoch [60/100], Loss: 0.0002\n",
      "Epoch [70/100], Loss: 0.0000\n",
      "Epoch [80/100], Loss: 0.0000\n",
      "Epoch [90/100], Loss: 0.0000\n",
      "Epoch [100/100], Loss: 0.0000\n"
     ]
    }
   ],
   "source": [
    "# Training loop\n",
    "num_epochs = 100\n",
    "h0, c0 = None, None  # Initialize hidden and cell states\n",
    "\n",
    "for epoch in range(num_epochs):\n",
    "    model.train()\n",
    "    optimizer.zero_grad()\n",
    "\n",
    "    # Forward pass\n",
    "    outputs, h0, c0 = model(X, h0, c0)\n",
    "\n",
    "    # Compute loss\n",
    "    loss = criterion(outputs, y)\n",
    "    loss.backward()\n",
    "    optimizer.step()\n",
    "\n",
    "    # Detach hidden and cell states to prevent backpropagation through the entire sequence\n",
    "    h0 = h0.detach()\n",
    "    c0 = c0.detach()\n",
    "\n",
    "    if (epoch+1) % 10 == 0:\n",
    "        print(f'Epoch [{epoch+1}/{num_epochs}], Loss: {loss.item():.4f}')"
   ]
  },
  {
   "cell_type": "code",
   "execution_count": null,
   "id": "7121aa9a",
   "metadata": {},
   "outputs": [],
   "source": [
    "import torch\n",
    "import torch.nn as nn\n",
    "\n",
    "# Define model hyperparameters\n",
    "\n",
    "vocab_size = 50    # Size of the character vocabulary\n",
    "embedding_dim = 64 # Dimension of character embeddings\n",
    "hidden_dim = 128   # Dimension of RNN hidden state\n",
    "output_dim = 10    # Dimension of the output\n",
    "\n",
    "# Create the model instance\n",
    "\n",
    "\n",
    "# Print the model architecture\n",
    "print(model)\n",
    "\n",
    "# Example input sequence (batch of sequences of character indices)\n",
    "example_input = torch.tensor([[1, 2, 3, 4], [4, 3, 2, 1]])  # Batch size = 2, sequence length = 4\n",
    "output = model(example_input)\n",
    "\n",
    "print(\"Output shape:\", output.shape)  # Output shape: [batch_size, output_dim]\n"
   ]
  },
  {
   "cell_type": "code",
   "execution_count": null,
   "id": "b2ac49fc",
   "metadata": {},
   "outputs": [],
   "source": []
  },
  {
   "cell_type": "code",
   "execution_count": null,
   "id": "5a7be7b8",
   "metadata": {},
   "outputs": [],
   "source": [
    "######### encoder decoder model ###########"
   ]
  },
  {
   "cell_type": "code",
   "execution_count": 3,
   "id": "f02afd94",
   "metadata": {},
   "outputs": [],
   "source": [
    "import torch\n",
    "import torch.nn as nn\n",
    "import torch.functional as F\n",
    "import torch.optim as optim\n",
    "from torch.utils.data import Dataset, DataLoader\n",
    "from torch.nn.utils.rnn import pad_sequence\n",
    "import numpy as np"
   ]
  },
  {
   "cell_type": "code",
   "execution_count": 4,
   "id": "f64246fc",
   "metadata": {},
   "outputs": [
    {
     "name": "stdout",
     "output_type": "stream",
     "text": [
      "2.5.1+cpu\n"
     ]
    },
    {
     "data": {
      "text/plain": [
       "device(type='cpu')"
      ]
     },
     "execution_count": 4,
     "metadata": {},
     "output_type": "execute_result"
    }
   ],
   "source": [
    "print(torch.__version__)\n",
    "device = torch.device(\"cuda:0\" if torch.cuda.is_available() else \"cpu\")\n",
    "device"
   ]
  },
  {
   "cell_type": "code",
   "execution_count": 11,
   "id": "945ef3f2",
   "metadata": {},
   "outputs": [
    {
     "name": "stdout",
     "output_type": "stream",
     "text": [
      "['heart.csv', 'hin_test.csv']\n"
     ]
    }
   ],
   "source": [
    "import os\n",
    "csv_list=[x for x in os.listdir('.') if x.endswith(\".csv\")]\n",
    "print(csv_list)"
   ]
  },
  {
   "cell_type": "code",
   "execution_count": 12,
   "id": "5a230219",
   "metadata": {},
   "outputs": [],
   "source": [
    "######## pre prossing dataset #########\n",
    "import csv\n",
    "csv\n",
    "with open(csv_list[1], 'r',encoding='utf-8') as file:\n",
    "  reader = csv.reader(file)\n",
    "  next(reader)  # Skip the header row if it exists\n",
    "  pairs=[row for row in reader]\n"
   ]
  },
  {
   "cell_type": "code",
   "execution_count": null,
   "id": "606dbbef",
   "metadata": {},
   "outputs": [],
   "source": []
  },
  {
   "cell_type": "code",
   "execution_count": 13,
   "id": "34e3914e",
   "metadata": {},
   "outputs": [
    {
     "name": "stdout",
     "output_type": "stream",
     "text": [
      "[['sikhaaega', 'सिखाएगा'], ['learn', 'लर्न'], ['twitters', 'ट्विटर्स'], ['tirunelveli', 'तिरुनेलवेली'], ['independence', 'इंडिपेंडेंस'], ['speshiyon', 'स्पेशियों'], ['shurooh', 'शुरूः'], ['kolhapur', 'कोल्हापुर'], ['ajhar', 'अजहर'], ['karaar', 'क़रार']]\n",
      "4095\n"
     ]
    }
   ],
   "source": [
    "print(pairs[:10])\n",
    "print(len(pairs))"
   ]
  },
  {
   "cell_type": "code",
   "execution_count": 14,
   "id": "4a193ba4",
   "metadata": {},
   "outputs": [],
   "source": [
    "# # Path to text file\n",
    "# file_path = 'eng_ita_v2.txt'\n",
    "\n",
    "# # Process the data\n",
    "# pairs = read_data(file_path)\n",
    "# len(pairs)"
   ]
  },
  {
   "cell_type": "code",
   "execution_count": 15,
   "id": "a87d5972",
   "metadata": {},
   "outputs": [],
   "source": [
    "#creating the vocabulary\n",
    "def tokenize(sentence):\n",
    "#     print(sentence)\n",
    "    return sentence.lower().split()\n",
    "\n",
    "\n",
    "## tokenize and build vocabularies\n",
    "\n",
    "def build_vocab(pairs):\n",
    "    eng_vocab=set()\n",
    "    hin_vocab=set()\n",
    "    \n",
    "    for eng,hin in pairs:\n",
    "        eng_vocab.update(tokenize(eng))\n",
    "        hin_vocab.update(tokenize(hin))\n",
    "    return eng_vocab,hin_vocab\n",
    "\n",
    "english_vocab,hindi_vocab= build_vocab(pairs)\n"
   ]
  },
  {
   "cell_type": "code",
   "execution_count": 17,
   "id": "9fb3664d",
   "metadata": {},
   "outputs": [
    {
     "name": "stdout",
     "output_type": "stream",
     "text": [
      "4070\n",
      "3373\n"
     ]
    }
   ],
   "source": [
    "# Creating word to integer mapping\n",
    "eng_word2int = {word: i for i, word in enumerate(english_vocab)}\n",
    "hin_word2int = {word: i for i, word in enumerate(hindi_vocab)}\n",
    "\n",
    "# Creating integer to word mapping\n",
    "eng_int2word = {i: word for word, i in eng_word2int.items()} # dict.itam()- iterate over dict and returns item and key pair\n",
    "hin_int2word = {i: word for word, i in hin_word2int.items()}\n",
    "\n",
    "\n",
    "print(len(english_vocab))\n",
    "print(len(hindi_vocab))"
   ]
  },
  {
   "cell_type": "code",
   "execution_count": 18,
   "id": "1b1100bf",
   "metadata": {},
   "outputs": [
    {
     "name": "stdout",
     "output_type": "stream",
     "text": [
      "English text encoded: [2957 3716]\n",
      "Decoded English: learn independence\n"
     ]
    }
   ],
   "source": [
    "eng_example = \"learn independence\"\n",
    "hind_sentence=pairs[0][1]\n",
    "# Encoding\n",
    "eng_encoded = np.array([eng_word2int[word] for word in tokenize(eng_example)], dtype=np.int32)\n",
    "# ita_encoded = np.array([ita_word2int[word] for word in tokenize(ita_example)], dtype=np.int32)\n",
    "\n",
    "print('English text encoded:', eng_encoded)\n",
    "# print('Italian text encoded:', ita_encoded)\n",
    "\n",
    "# Decoding\n",
    "print('Decoded English:', ' '.join([eng_int2word[i] for i in eng_encoded]))\n",
    "# print('Decoded Italian:', ' '.join([ita_int2word[i] for i in ita_encoded]))"
   ]
  },
  {
   "cell_type": "code",
   "execution_count": 19,
   "id": "fa19348d",
   "metadata": {},
   "outputs": [],
   "source": [
    "# Special tokens\n",
    "PAD_TOKEN = \"<PAD>\"\n",
    "EOS_TOKEN = \"<EOS>\"\n",
    "SOS_TOKEN = \"<SOS>\"\n",
    "UNK_TOKEN = \"<UNK>\"\n",
    "# Update the function to create mappings to include the special tokens\n",
    "def create_mappings(vocab):\n",
    "    vocab = [PAD_TOKEN, SOS_TOKEN, EOS_TOKEN, UNK_TOKEN] + sorted(vocab)\n",
    "    word2int = {word: i for i, word in enumerate(vocab)}\n",
    "    int2word = {i: word for word, i in word2int.items()}\n",
    "    return word2int, int2word\n",
    "\n",
    "# Update the vocabularies\n",
    "eng_word2int, eng_int2word = create_mappings(english_vocab)\n",
    "hin_word2int, hin_int2word = create_mappings(hindi_vocab)"
   ]
  },
  {
   "cell_type": "code",
   "execution_count": 21,
   "id": "af45b3e0",
   "metadata": {},
   "outputs": [],
   "source": [
    "class TranslationDataset(Dataset):\n",
    "    def __init__(self, pairs, eng_word2int, hin_word2int):\n",
    "        self.pairs = pairs\n",
    "        self.eng_word2int = eng_word2int\n",
    "        self.hin_word2int = hin_word2int\n",
    "\n",
    "    def __len__(self):\n",
    "        return len(self.pairs)\n",
    "\n",
    "    def __getitem__(self, idx):\n",
    "        eng, hin = self.pairs[idx]\n",
    "        eng_tensor = torch.tensor([self.eng_word2int[word] for word in tokenize(eng)]\n",
    "                                  + [self.eng_word2int[EOS_TOKEN]], dtype=torch.long)\n",
    "        hin_tensor = torch.tensor([self.hin_word2int[word] for word in tokenize(hin)]\n",
    "                                  + [self.hin_word2int[EOS_TOKEN]], dtype=torch.long)\n",
    "        return eng_tensor, hin_tensor\n",
    "\n",
    "# Custom collate function to handle padding # what does it do ?\n",
    "def collate_fn(batch):\n",
    "    eng_batch, hin_batch = zip(*batch)\n",
    "    eng_batch_padded = pad_sequence(eng_batch, batch_first=True, padding_value=eng_word2int[PAD_TOKEN])\n",
    "    hin_batch_padded = pad_sequence(hin_batch, batch_first=True, padding_value=hin_word2int[PAD_TOKEN])\n",
    "    return eng_batch_padded, hin_batch_padded"
   ]
  },
  {
   "cell_type": "code",
   "execution_count": 22,
   "id": "2855e1eb",
   "metadata": {},
   "outputs": [
    {
     "name": "stdout",
     "output_type": "stream",
     "text": [
      "Translation samples:  4095\n",
      "Translation batches:  63\n"
     ]
    }
   ],
   "source": [
    "from torch.nn.utils.rnn import pad_sequence\n",
    "\n",
    "# Create the dataset and DataLoader\n",
    "translation_dataset = TranslationDataset(pairs, eng_word2int, hin_word2int)\n",
    "batch_size = 64\n",
    "translation_dataloader = DataLoader(translation_dataset, batch_size=batch_size,\n",
    "                                    shuffle=True,  drop_last=True, collate_fn=collate_fn) \n",
    "# The dataset will transform the sentence pairs into sequences of integers (tokenized form) \n",
    "# so they can be used as input to a machine learning model.\n",
    "\n",
    "print(\"Translation samples: \", len(translation_dataset)) ## does what\n",
    "print(\"Translation batches: \", len(translation_dataloader)) ## does what"
   ]
  },
  {
   "cell_type": "code",
   "execution_count": 81,
   "id": "a96c255d",
   "metadata": {},
   "outputs": [],
   "source": [
    "# Example: iterating over the DataLoader\n",
    "# for eng, hin in translation_dataloader:\n",
    "#     print(\"English batch:\", eng)\n",
    "#     print(\"Hindi batch:\", hin)\n",
    "#     break # remove this to iterate over the whole dataset"
   ]
  },
  {
   "cell_type": "code",
   "execution_count": 82,
   "id": "5b9ae837",
   "metadata": {},
   "outputs": [],
   "source": [
    "# encoder/decoder RNN"
   ]
  },
  {
   "cell_type": "code",
   "execution_count": 23,
   "id": "b0968344",
   "metadata": {},
   "outputs": [],
   "source": [
    "# encoder \n",
    "import torch\n",
    "import torch.nn as nn\n",
    "import torch.optim as optim\n",
    "import torch.nn.functional as F\n",
    "\n",
    "class Encoder(nn.Module):\n",
    "    def __init__(self, vocab_size, embed_size, hidden_size, num_layers=1):\n",
    "        super().__init__()\n",
    "        self.hidden_size = hidden_size\n",
    "        self.embedding = nn.Embedding(vocab_size, embed_size)\n",
    "        self.lstm = nn.LSTM(embed_size, hidden_size, num_layers=num_layers,\n",
    "                            batch_first=True)\n",
    "\n",
    "    def forward(self, x):\n",
    "        # Reversing the sequence of indices\n",
    "        x = torch.flip(x, [1])\n",
    "        embedded = self.embedding(x)\n",
    "        outputs, (hidden, cell) = self.lstm(embedded)\n",
    "        return outputs, hidden, cell"
   ]
  },
  {
   "cell_type": "code",
   "execution_count": 24,
   "id": "83055192",
   "metadata": {},
   "outputs": [],
   "source": [
    "# decoder \n",
    "class Decoder(nn.Module):\n",
    "    def __init__(self, vocab_size, embed_size, hidden_size, num_layers=1):\n",
    "        super().__init__()\n",
    "        self.hidden_size = hidden_size\n",
    "        self.embedding = nn.Embedding(vocab_size, embed_size)\n",
    "        self.lstm = nn.LSTM(embed_size, hidden_size, num_layers=num_layers,\n",
    "                            batch_first=True)\n",
    "        self.fc = nn.Linear(hidden_size, vocab_size)\n",
    "\n",
    "    def forward(self, x, hidden, cell):\n",
    "        out = self.embedding(x)\n",
    "        out, (hidden, cell) = self.lstm(out, (hidden, cell))\n",
    "        out = self.fc(out).reshape(out.size(0), -1)\n",
    "        return out, hidden, cell"
   ]
  },
  {
   "cell_type": "code",
   "execution_count": 83,
   "id": "1d42f0f7",
   "metadata": {},
   "outputs": [],
   "source": [
    "# what is the total number of computations done by the network-\n",
    "# A)\n",
    "# embd_size=m\n",
    "# hiden_state=k\n",
    "# lenght of input and out sequence T\n",
    "# lenght of vocab V (same for both source and target)\n",
    "\n",
    "\n",
    "\n",
    "# B)\n",
    "# total number of parameters in the network\n"
   ]
  },
  {
   "cell_type": "code",
   "execution_count": null,
   "id": "f2d51331",
   "metadata": {},
   "outputs": [],
   "source": []
  },
  {
   "cell_type": "code",
   "execution_count": 26,
   "id": "10fa441d",
   "metadata": {},
   "outputs": [],
   "source": [
    "# Hyperparameters\n",
    "eng_vocab_size = len(eng_word2int)\n",
    "hin_vocab_size = len(hin_word2int)\n",
    "embed_size = 256\n",
    "hidden_size = 512\n",
    "num_layers = 1\n",
    "\n",
    "# Initialize the models\n",
    "encoder = Encoder(eng_vocab_size, embed_size, hidden_size, num_layers).to(device)\n",
    "decoder = Decoder(hin_vocab_size, embed_size, hidden_size, num_layers).to(device)"
   ]
  },
  {
   "cell_type": "code",
   "execution_count": 28,
   "id": "ec970e48",
   "metadata": {},
   "outputs": [
    {
     "data": {
      "text/plain": [
       "=================================================================\n",
       "Layer (type:depth-idx)                   Param #\n",
       "=================================================================\n",
       "Encoder                                  --\n",
       "├─Embedding: 1-1                         1,042,944\n",
       "├─LSTM: 1-2                              1,576,960\n",
       "=================================================================\n",
       "Total params: 2,619,904\n",
       "Trainable params: 2,619,904\n",
       "Non-trainable params: 0\n",
       "================================================================="
      ]
     },
     "execution_count": 28,
     "metadata": {},
     "output_type": "execute_result"
    }
   ],
   "source": [
    "# import torchinfo\n",
    "from torchinfo import summary\n",
    "print(\"Encoder summary\")\n",
    "summary(encoder) # do a test pass through of an example input size"
   ]
  },
  {
   "cell_type": "code",
   "execution_count": 31,
   "id": "d0313a9e",
   "metadata": {},
   "outputs": [
    {
     "name": "stdout",
     "output_type": "stream",
     "text": [
      "Dencoder summary\n"
     ]
    },
    {
     "data": {
      "text/plain": [
       "=================================================================\n",
       "Layer (type:depth-idx)                   Param #\n",
       "=================================================================\n",
       "Decoder                                  --\n",
       "├─Embedding: 1-1                         864,512\n",
       "├─LSTM: 1-2                              1,576,960\n",
       "├─Linear: 1-3                            1,732,401\n",
       "=================================================================\n",
       "Total params: 4,173,873\n",
       "Trainable params: 4,173,873\n",
       "Non-trainable params: 0\n",
       "================================================================="
      ]
     },
     "execution_count": 31,
     "metadata": {},
     "output_type": "execute_result"
    }
   ],
   "source": [
    "print(\"Dencoder summary\")\n",
    "summary(decoder) # do a test pass through of an example input size"
   ]
  },
  {
   "cell_type": "code",
   "execution_count": null,
   "id": "028f9a47",
   "metadata": {},
   "outputs": [],
   "source": []
  },
  {
   "cell_type": "code",
   "execution_count": null,
   "id": "ccf72dee",
   "metadata": {},
   "outputs": [],
   "source": []
  },
  {
   "cell_type": "code",
   "execution_count": null,
   "id": "6a6a4df2",
   "metadata": {},
   "outputs": [],
   "source": []
  },
  {
   "cell_type": "code",
   "execution_count": null,
   "id": "d7c7c181",
   "metadata": {},
   "outputs": [],
   "source": []
  },
  {
   "cell_type": "code",
   "execution_count": 32,
   "id": "ee2020db",
   "metadata": {},
   "outputs": [],
   "source": [
    "def translate(encoder, decoder, sentence, eng_word2int, ita_int2word, max_length=15):\n",
    "    encoder.eval()\n",
    "    decoder.eval()\n",
    "    with torch.inference_mode():\n",
    "        # Tokenize and encode the sentence\n",
    "        input_tensor = torch.tensor([eng_word2int[word] for word in tokenize(sentence)]\n",
    "                                    + [eng_word2int[EOS_TOKEN]], dtype=torch.long)\n",
    "        input_tensor = input_tensor.view(1, -1).to(DEVICE)  # batch_first=True\n",
    "\n",
    "        # Pass the input through the encoder\n",
    "        _, encoder_hidden, encoder_cell = encoder(input_tensor)\n",
    "\n",
    "        # Initialize the decoder input with the SOS token\n",
    "        decoder_input = torch.tensor([[eng_word2int[SOS_TOKEN]]], dtype=torch.long)  # SOS\n",
    "        # Initialize the hidden state of the decoder with the encoder's hidden state\n",
    "        decoder_hidden, decoder_cell = encoder_hidden, encoder_cell\n",
    "\n",
    "        # Decoding the sentence\n",
    "        decoded_words = []\n",
    "        last_word = torch.tensor([[eng_word2int[SOS_TOKEN]]]).to(DEVICE)\n",
    "        for di in range(max_length):\n",
    "            logits, decoder_hidden, decoder_cell = decoder(last_word, decoder_hidden, decoder_cell)\n",
    "            next_token = logits.argmax(dim=1) # greedy\n",
    "            last_word = torch.tensor([[next_token]]).to(DEVICE)\n",
    "            if next_token.item() == ita_word2int[EOS_TOKEN]:\n",
    "                break\n",
    "            else:\n",
    "                decoded_words.append(ita_int2word.get(next_token.item()))\n",
    "\n",
    "        return ' '.join(decoded_words)"
   ]
  },
  {
   "cell_type": "code",
   "execution_count": 34,
   "id": "de7e7cf7",
   "metadata": {},
   "outputs": [
    {
     "name": "stdout",
     "output_type": "stream",
     "text": [
      "Epoch 0, Batch 0, Loss: 8.1326\n",
      "Epoch 1, Batch 0, Loss: 4.0921\n",
      "Epoch 2, Batch 0, Loss: 4.0616\n",
      "Epoch 3, Batch 0, Loss: 4.0342\n",
      "Epoch 4, Batch 0, Loss: 4.0082\n",
      "Epoch 5, Batch 0, Loss: 3.8943\n",
      "Epoch 6, Batch 0, Loss: 3.7645\n",
      "Epoch 7, Batch 0, Loss: 3.6274\n",
      "Epoch 8, Batch 0, Loss: 3.4195\n",
      "Epoch 9, Batch 0, Loss: 3.1089\n"
     ]
    }
   ],
   "source": [
    "import torch.optim as optim\n",
    "import torch.nn as nn\n",
    "import random\n",
    "DEVICE=device\n",
    "\n",
    "# Loss Function (exclude padding)\n",
    "loss_fn = nn.CrossEntropyLoss(ignore_index=eng_word2int[PAD_TOKEN])\n",
    "\n",
    "# Optimizers\n",
    "encoder_optimizer = optim.AdamW(encoder.parameters())\n",
    "decoder_optimizer = optim.AdamW(decoder.parameters())\n",
    "\n",
    "# Number of epochs\n",
    "num_epochs = 10\n",
    "\n",
    "# Training Loop\n",
    "encoder.train()\n",
    "decoder.train()\n",
    "\n",
    "for epoch in range(num_epochs):\n",
    "    for i, (input_tensor, target_tensor) in enumerate(translation_dataloader):\n",
    "        input_tensor, target_tensor = input_tensor.to(DEVICE), target_tensor.to(DEVICE)\n",
    "\n",
    "        # Zero gradients of both optimizers\n",
    "        encoder_optimizer.zero_grad()\n",
    "        decoder_optimizer.zero_grad()\n",
    "\n",
    "        target_length = target_tensor.size(1)\n",
    "\n",
    "        # Encoder\n",
    "        _, encoder_hidden, encoder_cell = encoder(input_tensor)\n",
    "\n",
    "        # Decoder\n",
    "        decoder_input = torch.full((batch_size, 1), eng_word2int[SOS_TOKEN], dtype=torch.long).to(DEVICE)\n",
    "        decoder_hidden = encoder_hidden\n",
    "        decoder_cell = encoder_cell\n",
    "\n",
    "        # Randomly select a word index from the target sequence\n",
    "        random_word_index = random.randint(0, target_length - 1)\n",
    "\n",
    "        loss = 0\n",
    "\n",
    "        for di in range(target_length):\n",
    "            logits, decoder_hidden, decoder_cell  = decoder(decoder_input, decoder_hidden, decoder_cell)\n",
    "            #if di == random_word_index:\n",
    "            #    loss = loss_fn(logits, target_tensor[:, di])\n",
    "            #    break  # Only compute loss for the randomly selected word\n",
    "            loss += loss_fn(logits, target_tensor[:,di])\n",
    "            decoder_input = target_tensor[:, di].reshape(batch_size, 1)  # Teacher forcing\n",
    "\n",
    "\n",
    "        # Backpropagation\n",
    "        loss.backward()\n",
    "\n",
    "        encoder_optimizer.step()\n",
    "        decoder_optimizer.step()\n",
    "\n",
    "        if i % 100 == 0:  # Print loss every 10 batches\n",
    "            print(f'Epoch {epoch}, Batch {i}, Loss: {loss.item() / target_length:.4f}')"
   ]
  },
  {
   "cell_type": "code",
   "execution_count": 35,
   "id": "80e347f7",
   "metadata": {},
   "outputs": [],
   "source": [
    "import torch\n",
    "import torch.nn as nn\n",
    "import torch.optim as optim\n",
    "import torch.nn.functional as F\n",
    "\n",
    "class Encoder(nn.Module):\n",
    "    def __init__(self, vocab_size, embed_size, hidden_size, num_layers=1):\n",
    "        super().__init__()\n",
    "        self.hidden_size = hidden_size\n",
    "        self.embedding = nn.Embedding(vocab_size, embed_size)\n",
    "        self.lstm = nn.LSTM(embed_size, hidden_size, num_layers=num_layers,\n",
    "                            batch_first=True, bidirectional=True)\n",
    "\n",
    "    def forward(self, x):\n",
    "        embedded = self.embedding(x)\n",
    "        outputs, (hidden, cell) = self.lstm(embedded)\n",
    "\n",
    "        # concatenate hidden states of the bi-directional RNN layer\n",
    "        hidden = torch.cat((hidden[0,:,:], hidden[1,:,:]), dim=1).unsqueeze(0)\n",
    "        cell = torch.cat((cell[0,:,:], cell[1,:,:]), dim=1).unsqueeze(0)\n",
    "\n",
    "        return outputs, hidden, cell\n",
    "\n",
    "class Decoder(nn.Module):\n",
    "    def __init__(self, vocab_size, embed_size, hidden_size, num_layers=1):\n",
    "        super().__init__()\n",
    "        self.hidden_size = hidden_size\n",
    "        self.embedding = nn.Embedding(vocab_size, embed_size)\n",
    "        self.lstm = nn.LSTM(embed_size, hidden_size, num_layers=num_layers, batch_first=True)\n",
    "        self.fc = nn.Linear(hidden_size, vocab_size)\n",
    "\n",
    "    def forward(self, x, hidden, cell):\n",
    "        out = self.embedding(x)\n",
    "        out, (hidden, cell) = self.lstm(out, (hidden, cell))\n",
    "        out = self.fc(out).reshape(out.size(0), -1)\n",
    "        return out, hidden, cell"
   ]
  },
  {
   "cell_type": "code",
   "execution_count": 37,
   "id": "4ee5f9db",
   "metadata": {},
   "outputs": [],
   "source": [
    "# Hyperparameters\n",
    "eng_vocab_size = len(eng_word2int)\n",
    "ita_vocab_size = len(hin_word2int)\n",
    "embed_size = 256\n",
    "hidden_size = 512\n",
    "num_layers = 1\n",
    "\n",
    "# Initialize the models\n",
    "encoder = Encoder(eng_vocab_size, embed_size, hidden_size, num_layers).to(DEVICE)\n",
    "decoder = Decoder(hin_vocab_size, embed_size, hidden_size*2, num_layers).to(DEVICE)"
   ]
  },
  {
   "cell_type": "code",
   "execution_count": null,
   "id": "9da24408",
   "metadata": {},
   "outputs": [],
   "source": []
  }
 ],
 "metadata": {
  "kernelspec": {
   "display_name": "Python 3 (ipykernel)",
   "language": "python",
   "name": "python3"
  },
  "language_info": {
   "codemirror_mode": {
    "name": "ipython",
    "version": 3
   },
   "file_extension": ".py",
   "mimetype": "text/x-python",
   "name": "python",
   "nbconvert_exporter": "python",
   "pygments_lexer": "ipython3",
   "version": "3.10.8"
  }
 },
 "nbformat": 4,
 "nbformat_minor": 5
}
