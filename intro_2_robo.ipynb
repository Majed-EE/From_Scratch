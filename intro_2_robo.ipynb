{
 "cells": [
  {
   "cell_type": "code",
   "execution_count": 6,
   "id": "ddcf5389",
   "metadata": {},
   "outputs": [
    {
     "name": "stdout",
     "output_type": "stream",
     "text": [
      "[[4]\n",
      " [3]\n",
      " [1]]\n",
      "[[ 0.8660254 -0.5        0.         4.       ]\n",
      " [ 0.5        0.8660254  0.         3.       ]\n",
      " [ 0.         0.         1.         1.       ]]\n",
      "(4, 4)\n"
     ]
    }
   ],
   "source": [
    "import numpy as np\n",
    "# generate numpy matrix of 3x3\n",
    "# add to it row wise \n",
    "# add to it column wise\n",
    "global scaling\n",
    "n=3\n",
    "vector_1=np.random.rand(n,1)\n",
    "theta=(np.pi/6)\n",
    "rot_2_1=np.asarray([[np.cos(theta),-np.sin(theta),0],[np.sin(theta),np.cos(theta),0],[0,0,1]])\n",
    "trans_2_1=np.asarray([[4,3,1]]).transpose()\n",
    "# print(trans_2_1.shape)\n",
    "print(trans_2_1)\n",
    "# print(vector_2)\n",
    "T_2_1=np.hstack((rot_2_1,trans_2_1))\n",
    "print(T_2_1)\n",
    "scaling=np.asarray([[0,0,0,1]])\n",
    "T_2_1=np.vstack((T_2_1,scaling))\n",
    "print(T_2_1.shape)"
   ]
  },
  {
   "cell_type": "code",
   "execution_count": 7,
   "id": "a4d62949",
   "metadata": {},
   "outputs": [
    {
     "name": "stdout",
     "output_type": "stream",
     "text": [
      "[[ 0.8660254 -0.5        0.         4.       ]\n",
      " [ 0.5        0.8660254  0.         3.       ]\n",
      " [ 0.         0.         1.         1.       ]\n",
      " [ 0.         0.         0.         1.       ]]\n",
      "[[ 0.8660254 -0.5        0.       ]\n",
      " [ 0.5        0.8660254  0.       ]\n",
      " [ 0.         0.         1.       ]]\n",
      "[[4.]\n",
      " [3.]\n",
      " [1.]]\n",
      "(3, 3)\n"
     ]
    }
   ],
   "source": [
    "# find inverse\n",
    "print(T_2_1)\n",
    "print(T_2_1[:-1,:-1])\n",
    "print(np.asarray([T_2_1[:-1,-1]]).transpose())\n",
    "print(T_2_1[:-1,:-1].shape)\n",
    "# def inverse(T):\n",
    "#     global scaling\n",
    "#     R_o_f=T[:-1,:-1].transpose()\n",
    "#     Tran_o_f=-R_o_f@(np.asarray([T_2_1[:-1,-1]]).transpose())\n",
    "#     T_o_f=np.hstack(R_o_f,Tran_o_f)\n",
    "#     T_o_f=np.vstack(T_o_f,scaling)\n",
    "#     return T_o_f\n",
    "# T_1_2= inverse(T_2_1)\n",
    "# print(T_1_2)   \n",
    "    "
   ]
  },
  {
   "cell_type": "code",
   "execution_count": 9,
   "id": "6bb37638",
   "metadata": {},
   "outputs": [
    {
     "name": "stdout",
     "output_type": "stream",
     "text": [
      "[[ 0.8660254 -0.5        0.       ]\n",
      " [ 0.5        0.8660254  0.       ]\n",
      " [ 0.         0.         1.       ]]\n",
      "(4, 1)\n",
      "[[10]\n",
      " [ 5]\n",
      " [ 0]\n",
      " [ 1]]\n",
      "[[ 0.8660254 -0.5        0.        10.       ]\n",
      " [ 0.5        0.8660254  0.         5.       ]\n",
      " [ 0.         0.         1.         0.       ]\n",
      " [ 0.         0.         0.         1.       ]]\n",
      "[[12.65869799]\n",
      " [ 6.535     ]\n",
      " [ 0.        ]\n",
      " [ 1.        ]]\n"
     ]
    }
   ],
   "source": [
    "# print(np.cos(np.pi/3))\n",
    "rot=np.pi/6\n",
    "A_R_B=np.array([[np.cos(rot),-np.sin(rot), 0],[np.sin(rot),np.cos(rot), 0],[0,0, 1]])\n",
    "print(A_R_B)\n",
    "\n",
    "B_P=np.array([[3.07],[0],[0]])\n",
    "B_P.shape\n",
    "\n",
    "# translation of axis\n",
    "A_P_Borg=np.array([[10],[5],[0]])\n",
    "A_P_Borg=np.append(A_P_Borg,np.array([1]).reshape([1,1]),axis=0)\n",
    "print(A_P_Borg.shape)\n",
    "print(A_P_Borg)\n",
    "\n",
    "\n",
    "#  point information\n",
    "B_P=np.array([[3.07],[0],[0],[1]])\n",
    "\n",
    "# translation matrix\n",
    "a_T_b=np.append(A_R_B,np.zeros([1,3]),axis=0)\n",
    "a_T_b=np.append(a_T_b,A_P_Borg,axis=1)\n",
    "\n",
    "\n",
    "print(a_T_b)\n",
    "new_A_p=a_T_b@B_P\n",
    "print(new_A_p)"
   ]
  },
  {
   "cell_type": "code",
   "execution_count": null,
   "id": "c163c8b1",
   "metadata": {},
   "outputs": [],
   "source": []
  },
  {
   "cell_type": "code",
   "execution_count": null,
   "id": "1f7d09cd",
   "metadata": {},
   "outputs": [],
   "source": [
    "# import numpy as np\n",
    "\n",
    "# # 1. Generate vectors of Nx1 size\n",
    "# N = 4\n",
    "# vector_n1 = np.random.rand(N, 1)\n",
    "# print(\"Vector of size Nx1:\\n\", vector_n1)\n",
    "\n",
    "# # 2. Generate a numpy matrix of NxM of all ones\n",
    "# M = 3\n",
    "# matrix_ones = np.ones((N, M))\n",
    "# print(\"\\nMatrix of NxM with all ones:\\n\", matrix_ones)\n",
    "\n",
    "# # 3. Generate column-wise vectors and add them side by side (example: 3 vectors)\n",
    "# vector_1 = np.random.rand(N, 1)\n",
    "# vector_2 = np.random.rand(N, 1)\n",
    "# vector_3 = np.random.rand(N, 1)\n",
    "\n",
    "# side_by_side = np.hstack((vector_1, vector_2, vector_3))\n",
    "# print(\"\\nColumn-wise vectors added side by side:\\n\", side_by_side)\n",
    "\n",
    "# # 4. Add vectors row-wise\n",
    "# row_wise = np.vstack((vector_1.T, vector_2.T, vector_3.T))\n",
    "# print(\"\\nVectors added row-wise:\\n\", row_wise)\n",
    "\n",
    "# # 5. Add vectors column-wise\n",
    "# column_wise = np.hstack((vector_1, vector_2, vector_3))\n",
    "# print(\"\\nVectors added column-wise:\\n\", column_wise)\n",
    "\n",
    "# # 6. Dot product of two vectors\n",
    "# vector_a = np.random.rand(N, 1)\n",
    "# vector_b = np.random.rand(N, 1)\n",
    "\n",
    "# dot_product = np.dot(vector_a.T, vector_b)\n",
    "# print(\"\\nDot product of two vectors:\\n\", dot_product)\n",
    "\n",
    "# # 7. Multiplication of two matrices\n",
    "# matrix_a = np.random.rand(N, M)\n",
    "# matrix_b = np.random.rand(M, N)\n",
    "\n",
    "# matrix_multiplication = np.dot(matrix_a, matrix_b)\n",
    "# print(\"\\nMultiplication of two matrices:\\n\", matrix_multiplication)"
   ]
  },
  {
   "cell_type": "code",
   "execution_count": null,
   "id": "2d9050c0",
   "metadata": {},
   "outputs": [],
   "source": []
  },
  {
   "cell_type": "code",
   "execution_count": null,
   "id": "ce9925ee",
   "metadata": {},
   "outputs": [],
   "source": []
  },
  {
   "cell_type": "code",
   "execution_count": null,
   "id": "61afe2fb",
   "metadata": {},
   "outputs": [],
   "source": []
  },
  {
   "cell_type": "code",
   "execution_count": null,
   "id": "e37ae513",
   "metadata": {},
   "outputs": [],
   "source": []
  },
  {
   "cell_type": "code",
   "execution_count": null,
   "id": "149beb07",
   "metadata": {},
   "outputs": [],
   "source": []
  },
  {
   "cell_type": "code",
   "execution_count": null,
   "id": "62b10850",
   "metadata": {},
   "outputs": [],
   "source": []
  }
 ],
 "metadata": {
  "kernelspec": {
   "display_name": "Python 3 (ipykernel)",
   "language": "python",
   "name": "python3"
  },
  "language_info": {
   "codemirror_mode": {
    "name": "ipython",
    "version": 3
   },
   "file_extension": ".py",
   "mimetype": "text/x-python",
   "name": "python",
   "nbconvert_exporter": "python",
   "pygments_lexer": "ipython3",
   "version": "3.10.8"
  }
 },
 "nbformat": 4,
 "nbformat_minor": 5
}
