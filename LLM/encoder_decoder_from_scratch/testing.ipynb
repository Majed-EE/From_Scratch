{
 "cells": [
  {
   "cell_type": "code",
   "execution_count": 1,
   "metadata": {},
   "outputs": [
    {
     "name": "stdout",
     "output_type": "stream",
     "text": [
      "tensor([0, 2, 4])\n"
     ]
    }
   ],
   "source": [
    "import torch\n",
    "k=torch.arange(0, 5, 2)\n",
    "print(k)"
   ]
  },
  {
   "cell_type": "code",
   "execution_count": 7,
   "metadata": {},
   "outputs": [
    {
     "name": "stdout",
     "output_type": "stream",
     "text": [
      "torch.Size([10, 1])\n"
     ]
    },
    {
     "data": {
      "text/plain": [
       "torch.Size([10, 50])"
      ]
     },
     "execution_count": 7,
     "metadata": {},
     "output_type": "execute_result"
    }
   ],
   "source": [
    "embd_dim=50\n",
    "seq_len=10\n",
    "pe = torch.zeros(seq_len, embd_dim) # position encoding matrix\n",
    "position = torch.arange(0, seq_len, dtype=torch.float).unsqueeze(1) # dimension (seq_len,1)\n",
    "print(position.shape)\n",
    "div_term = torch.exp(torch.arange(0, embd_dim, 2).float() * (-torch.log(torch.tensor(10000.0)) / embd_dim))\n",
    "# print(div_term.shape)\n",
    "# print((position * div_term).shape)\n",
    "# print(position * div_term)\n",
    "pe[:, 0::2] = torch.sin(position * div_term)\n",
    "pe[:, 1::2] = torch.cos(position * div_term)\n",
    "\n",
    "pe.shape"
   ]
  },
  {
   "cell_type": "code",
   "execution_count": 14,
   "metadata": {},
   "outputs": [
    {
     "name": "stdout",
     "output_type": "stream",
     "text": [
      "torch.Size([3, 2, 4])\n",
      "tensor([[4., 4.],\n",
      "        [4., 4.],\n",
      "        [4., 4.]])\n",
      "tensor([[[4.],\n",
      "         [4.]],\n",
      "\n",
      "        [[4.],\n",
      "         [4.]],\n",
      "\n",
      "        [[4.],\n",
      "         [4.]]])\n"
     ]
    }
   ],
   "source": [
    "b,t,c=3,2,4\n",
    "a=torch.ones(b,t,c)\n",
    "print(a.shape)\n",
    "# print(a.sum(dim=-1))\n",
    "# print(a.sum(dim=-1,keepdim=True))"
   ]
  },
  {
   "cell_type": "code",
   "execution_count": null,
   "metadata": {},
   "outputs": [],
   "source": []
  }
 ],
 "metadata": {
  "kernelspec": {
   "display_name": "Python 3",
   "language": "python",
   "name": "python3"
  },
  "language_info": {
   "codemirror_mode": {
    "name": "ipython",
    "version": 3
   },
   "file_extension": ".py",
   "mimetype": "text/x-python",
   "name": "python",
   "nbconvert_exporter": "python",
   "pygments_lexer": "ipython3",
   "version": "3.10.8"
  }
 },
 "nbformat": 4,
 "nbformat_minor": 2
}
