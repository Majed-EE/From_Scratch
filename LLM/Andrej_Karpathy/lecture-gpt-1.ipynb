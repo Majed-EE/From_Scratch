{
 "cells": [
  {
   "cell_type": "code",
   "execution_count": 2,
   "id": "24750a08",
   "metadata": {},
   "outputs": [
    {
     "data": {
      "text/plain": [
       "<torch._C.Generator at 0x1e5a924ccb0>"
      ]
     },
     "execution_count": 2,
     "metadata": {},
     "output_type": "execute_result"
    }
   ],
   "source": [
    "import torch \n",
    "import torch.nn as nn\n",
    "from torch.nn import functional as F\n",
    "torch.manual_seed(1337)\n"
   ]
  },
  {
   "cell_type": "code",
   "execution_count": 3,
   "id": "1ba24756",
   "metadata": {},
   "outputs": [
    {
     "name": "stdout",
     "output_type": "stream",
     "text": [
      "length of the dataset characters 1115393\n"
     ]
    }
   ],
   "source": [
    "with open('input_tiny.txt','r',encoding='utf-8') as f: # with statement replaces a try-catch block with a concise shorthand\n",
    "    # ensures closing resources right after processing them.\n",
    "    text=f.read()\n",
    "print(f\"length of the dataset characters {len(text)}\")"
   ]
  },
  {
   "cell_type": "code",
   "execution_count": 4,
   "id": "778b6e0b",
   "metadata": {},
   "outputs": [
    {
     "name": "stdout",
     "output_type": "stream",
     "text": [
      "\n",
      " !$&',-.3:;?ABCDEFGHIJKLMNOPQRSTUVWXYZabcdefghijklmnopqrstuvwxyz\n"
     ]
    }
   ],
   "source": [
    "# pick out the unique characters\n",
    "chars=sorted(list(set(text)))\n",
    "vocab_size=len(chars)\n",
    "print(\"\".join(chars))"
   ]
  },
  {
   "cell_type": "code",
   "execution_count": 5,
   "id": "29ae70dc",
   "metadata": {},
   "outputs": [
    {
     "name": "stdout",
     "output_type": "stream",
     "text": [
      "[46, 47, 47, 1, 58, 46, 43, 56, 43]\n",
      "hii there\n"
     ]
    }
   ],
   "source": [
    "# creating mapping from char to integers\n",
    "stoi={ch:i for i,ch in enumerate(chars)} # enumerate gives index(not key) value\n",
    "itos={i:ch for i,ch in enumerate(chars)}\n",
    "# for index_int,val in enumerate (stoi):\n",
    "#     print(f\"key: {val} value: {stoi[val]} \")\n",
    "\n",
    "\n",
    "# lambda takes lambda var: -----> var as input to the function \n",
    "encode = lambda s: [stoi[c] for c in s] # encoder: take a string, output a list of integers \n",
    "decode = lambda l: ''.join([itos[i] for i in l]) # decoder: take a list of integers, output a string\n",
    "\n",
    "print(encode(\"hii there\"))\n",
    "print(decode(encode(\"hii there\")))"
   ]
  },
  {
   "cell_type": "code",
   "execution_count": 6,
   "id": "3fff8e29",
   "metadata": {},
   "outputs": [
    {
     "name": "stdout",
     "output_type": "stream",
     "text": [
      "torch.Size([1115393])\n",
      "tensor([18, 47, 56, 57, 58,  1, 15, 47, 58, 47])\n"
     ]
    }
   ],
   "source": [
    "import torch \n",
    "data= torch.tensor(encode(text), dtype=torch.long)\n",
    "print(data.shape)\n",
    "print(data[:10])\n",
    "# print(decode(data[0][:10].item()))\n"
   ]
  },
  {
   "cell_type": "code",
   "execution_count": 7,
   "id": "9c27ef74",
   "metadata": {},
   "outputs": [],
   "source": [
    "# Let's now split up the data into train and validation sets\n",
    "n = int(0.9*len(data)) # first 90% will be train, rest val\n",
    "train_data = data[:n]\n",
    "val_data = data[n:]\n",
    "\n",
    "def tensor_decoder(ten):\n",
    "    dec=decode([ten[x].item() for x in range(ten.shape[0])])\n",
    "    return dec\n",
    "    \n",
    "\n",
    "# dec=[data[x].item() for x in range(10)]\n",
    "# decode(dec)"
   ]
  },
  {
   "cell_type": "code",
   "execution_count": 8,
   "id": "26efe179",
   "metadata": {},
   "outputs": [
    {
     "name": "stdout",
     "output_type": "stream",
     "text": [
      "when input is tensor([18]) the target: 47\n",
      "when input is tensor([18, 47]) the target: 56\n",
      "when input is tensor([18, 47, 56]) the target: 57\n",
      "when input is tensor([18, 47, 56, 57]) the target: 58\n",
      "when input is tensor([18, 47, 56, 57, 58]) the target: 1\n",
      "when input is tensor([18, 47, 56, 57, 58,  1]) the target: 15\n",
      "when input is tensor([18, 47, 56, 57, 58,  1, 15]) the target: 47\n",
      "when input is tensor([18, 47, 56, 57, 58,  1, 15, 47]) the target: 58\n"
     ]
    }
   ],
   "source": [
    "block_size = 8 # also called the context size\n",
    "train_data[:block_size+1] # +1 because if lets say abcd, the len is 3, d context is abc \n",
    "\n",
    "\n",
    "# context can be taken anywhere between 1 to 8 is the meaning\n",
    "\n",
    "x = train_data[:block_size]\n",
    "y = train_data[1:block_size+1]\n",
    "for t in range(block_size):\n",
    "    context = x[:t+1]\n",
    "    target = y[t]\n",
    "    print(f\"when input is {context} the target: {target}\")"
   ]
  },
  {
   "cell_type": "code",
   "execution_count": 9,
   "id": "a9ae58f2",
   "metadata": {},
   "outputs": [
    {
     "name": "stdout",
     "output_type": "stream",
     "text": [
      "[tensor([56, 43, 40, 43, 50,  0, 13, 52]), tensor([39, 45, 43,  8,  0,  0, 31, 43]), tensor([42,  6,  1, 42, 43, 41, 50, 47]), tensor([50,  1, 58, 46, 56, 53, 52, 43])]\n"
     ]
    }
   ],
   "source": [
    "# print(len(data))\n",
    "batch_size=4\n",
    "# print(torch.randint(len(data) - block_size, (batch_size,)))\n",
    "ix = torch.randint(len(data) - block_size, (batch_size,))\n",
    "# print(ix)\n",
    "print([data[i:i+block_size] for i in ix]) # block size is 8"
   ]
  },
  {
   "cell_type": "code",
   "execution_count": 10,
   "id": "f63d4130",
   "metadata": {},
   "outputs": [
    {
     "name": "stdout",
     "output_type": "stream",
     "text": [
      "inputs(xb):\n",
      "torch.Size([4, 8])\n",
      "tensor([[53, 59,  6,  1, 58, 56, 47, 40],\n",
      "        [49, 43, 43, 54,  1, 47, 58,  1],\n",
      "        [13, 52, 45, 43, 50, 53,  8,  0],\n",
      "        [ 1, 39,  1, 46, 53, 59, 57, 43]])\n",
      "targets(yb):\n",
      "torch.Size([4, 8])\n",
      "tensor([[59,  6,  1, 58, 56, 47, 40, 59],\n",
      "        [43, 43, 54,  1, 47, 58,  1, 58],\n",
      "        [52, 45, 43, 50, 53,  8,  0, 26],\n",
      "        [39,  1, 46, 53, 59, 57, 43,  0]])\n",
      "----\n",
      "when input is [53] the target: 59\n",
      "when input is [53, 59] the target: 6\n",
      "when input is [53, 59, 6] the target: 1\n",
      "when input is [53, 59, 6, 1] the target: 58\n",
      "when input is [53, 59, 6, 1, 58] the target: 56\n",
      "when input is [53, 59, 6, 1, 58, 56] the target: 47\n",
      "when input is [53, 59, 6, 1, 58, 56, 47] the target: 40\n",
      "when input is [53, 59, 6, 1, 58, 56, 47, 40] the target: 59\n",
      "when input is [49] the target: 43\n",
      "when input is [49, 43] the target: 43\n",
      "when input is [49, 43, 43] the target: 54\n",
      "when input is [49, 43, 43, 54] the target: 1\n",
      "when input is [49, 43, 43, 54, 1] the target: 47\n",
      "when input is [49, 43, 43, 54, 1, 47] the target: 58\n",
      "when input is [49, 43, 43, 54, 1, 47, 58] the target: 1\n",
      "when input is [49, 43, 43, 54, 1, 47, 58, 1] the target: 58\n",
      "when input is [13] the target: 52\n",
      "when input is [13, 52] the target: 45\n",
      "when input is [13, 52, 45] the target: 43\n",
      "when input is [13, 52, 45, 43] the target: 50\n",
      "when input is [13, 52, 45, 43, 50] the target: 53\n",
      "when input is [13, 52, 45, 43, 50, 53] the target: 8\n",
      "when input is [13, 52, 45, 43, 50, 53, 8] the target: 0\n",
      "when input is [13, 52, 45, 43, 50, 53, 8, 0] the target: 26\n",
      "when input is [1] the target: 39\n",
      "when input is [1, 39] the target: 1\n",
      "when input is [1, 39, 1] the target: 46\n",
      "when input is [1, 39, 1, 46] the target: 53\n",
      "when input is [1, 39, 1, 46, 53] the target: 59\n",
      "when input is [1, 39, 1, 46, 53, 59] the target: 57\n",
      "when input is [1, 39, 1, 46, 53, 59, 57] the target: 43\n",
      "when input is [1, 39, 1, 46, 53, 59, 57, 43] the target: 0\n"
     ]
    }
   ],
   "source": [
    "torch.manual_seed(1337)\n",
    "batch_size = 4 # how many independent sequences will we process in parallel?-> yes\n",
    "block_size = 8 # what is the maximum context length for predictions?-> yes\n",
    "\n",
    "def get_batch(split):\n",
    "    # generate a small batch of data of inputs x and targets y\n",
    "    data = train_data if split == 'train' else val_data\n",
    "    ix = torch.randint(len(data) - block_size, (batch_size,)) # catches starting point randomly from any line\n",
    "    x = torch.stack([data[i:i+block_size] for i in ix])   ## they become a row in 4x8 tensor\n",
    "    y = torch.stack([data[i+1:i+block_size+1] for i in ix])\n",
    "    return x, y\n",
    "\n",
    "xb, yb = get_batch('train')\n",
    "print('inputs(xb):')\n",
    "print(xb.shape)\n",
    "print(xb)\n",
    "print('targets(yb):')\n",
    "print(yb.shape)\n",
    "print(yb)\n",
    "\n",
    "print('----')\n",
    "\n",
    "for b in range(batch_size): # batch dimension\n",
    "    for t in range(block_size): # time dimension\n",
    "        context = xb[b, :t+1]\n",
    "        target = yb[b,t]\n",
    "        print(f\"when input is {context.tolist()} the target: {target}\")\n",
    "        \n",
    "        \n",
    "### Done"
   ]
  },
  {
   "cell_type": "code",
   "execution_count": 11,
   "id": "9b7f4fc4",
   "metadata": {},
   "outputs": [],
   "source": [
    "# x = torch.randn(1, 3)\n",
    "# x.shape\n",
    "# torch.stack((x,x)).shape\n",
    "# >>> torch.stack((x, x)) # same as torch.stack((x, x), dim=0)\n",
    "# tensor([[[ 0.3367,  0.1288,  0.2345],\n",
    "#          [ 0.2303, -1.1229, -0.1863]],\n",
    "\n",
    "#         [[ 0.3367,  0.1288,  0.2345],\n",
    "#          [ 0.2303, -1.1229, -0.1863]]])\n",
    "# >>> torch.stack((x, x)).size()\n",
    "# torch.Size([2, 2, 3])\n",
    "# >>> torch.stack((x, x), dim=1)\n",
    "# tensor([[[ 0.3367,  0.1288,  0.2345],\n",
    "#          [ 0.3367,  0.1288,  0.2345]],\n",
    "\n",
    "#         [[ 0.2303, -1.1229, -0.1863],\n",
    "#          [ 0.2303, -1.1229, -0.1863]]])\n",
    "# >>> torch.stack((x, x), dim=2)\n",
    "# tensor([[[ 0.3367,  0.3367],\n",
    "#          [ 0.1288,  0.1288],\n",
    "#          [ 0.2345,  0.2345]],\n",
    "\n",
    "#         [[ 0.2303,  0.2303],\n",
    "#          [-1.1229, -1.1229],\n",
    "#          [-0.1863, -0.1863]]])\n",
    "# >>> torch.stack((x, x), dim=-1)\n",
    "# tensor([[[ 0.3367,  0.3367],\n",
    "#          [ 0.1288,  0.1288],\n",
    "#          [ 0.2345,  0.2345]],\n",
    "\n",
    "#         [[ 0.2303,  0.2303],\n",
    "#          [-1.1229, -1.1229],\n",
    "#          [-0.1863, -0.1863]]])"
   ]
  },
  {
   "cell_type": "code",
   "execution_count": null,
   "id": "9ab86f90",
   "metadata": {},
   "outputs": [],
   "source": [
    "\n"
   ]
  },
  {
   "cell_type": "code",
   "execution_count": 12,
   "id": "192b7ff0",
   "metadata": {},
   "outputs": [],
   "source": [
    "class BigramLanguageModel(nn.Module):\n",
    "    def __init__(self,vocab_size):\n",
    "        super().__init__() # inherit everything from nn class\n",
    "        embd_dim=vocab_size\n",
    "        self.token_embedding_table=nn.Embedding(vocab_size,embd_dim) # token embeding table of size vocab_size*vocab_size\n",
    "        # why vocab size x vocab size why not just vocab size x anything\n",
    "    #     def show_embedding(self):\n",
    "    #         print(self.token_embedding_table)\n",
    "    def forward(self, idx, targets=None):\n",
    "\n",
    "        # idx and targets are both (B,T) tensor of integers\n",
    "        # why input as BxC\n",
    "        logits = self.token_embedding_table(idx) # (B,T,C) every idx pluck correspoinding row from embedding table\n",
    "        # how is this giving the output as logits--> what does logits look like\n",
    "        # How will the embedding table look like # B batch=4, T time is 8 and C channel is vocab size(65 in this case)\n",
    "        # Pluck out the rows, arrange them in B, T, C\n",
    "        # logits are the score for the next in the sequence \n",
    "        # Still confused about what is channel- > has to do with embedding\n",
    "\n",
    "        if targets is None:\n",
    "            loss = None\n",
    "        else:\n",
    "            B, T, C = logits.shape # C is the embedding dimension\n",
    "#             print(\"from inside the class\")\n",
    "#             print(f\"B {B}\\nT: {T}\\nC: {C}\\n\")\n",
    "            logits = logits.view(B*T, C) # see the documentation --> most likely flatten portion\n",
    "            targets = targets.view(B*T) # alternatively can do -1 \n",
    "            loss = F.cross_entropy(logits, targets) #--> how is this working and what about C \n",
    "            # log(p) where p is the probability of the target\n",
    "            # okay clear\n",
    "        return logits, loss\n",
    "\n",
    "    def generate(self, idx, max_new_tokens): # take in context and generate +1+2 upto max tokens\n",
    "        # idx is (B, T) array of indices in the current context\n",
    "        for _ in range(max_new_tokens):\n",
    "            # get the predictions\n",
    "            logits, loss = self(idx) # work os forward ??\n",
    "            # focus only on the last time step\n",
    "            logits = logits[:, -1, :] # becomes (B, C) # because bigram\n",
    "            # apply softmax to get probabilities\n",
    "            probs = F.softmax(logits, dim=-1) # (B, C)?\n",
    "            # sample from the distribution\n",
    "            idx_next = torch.multinomial(probs, num_samples=1) # (B, 1)\n",
    "            # append sampled index to the running sequence\n",
    "            idx = torch.cat((idx, idx_next), dim=1) # (B, T+1)\n",
    "        return idx\n",
    "\n",
    "\n"
   ]
  },
  {
   "cell_type": "code",
   "execution_count": 13,
   "id": "ca343c20",
   "metadata": {},
   "outputs": [
    {
     "name": "stdout",
     "output_type": "stream",
     "text": [
      "torch.Size([32, 65])\n",
      "tensor(4.9456, grad_fn=<NllLossBackward0>)\n"
     ]
    }
   ],
   "source": [
    "m = BigramLanguageModel(vocab_size)\n",
    "logits, loss = m(xb, yb) ## how do we know it is going to forward \n",
    "# --> why is it going to forward by default \n",
    "print(logits.shape) # logits is 32x64 because (B*TxC)\n",
    "print(loss)\n",
    "# b,t,c=logits.shape\n",
    "# print(decode(m.generate(idx = torch.zeros((1, 1), dtype=torch.long), max_new_tokens=100)[0].tolist()))"
   ]
  },
  {
   "cell_type": "code",
   "execution_count": 14,
   "id": "36f44846",
   "metadata": {},
   "outputs": [
    {
     "name": "stdout",
     "output_type": "stream",
     "text": [
      "Embedding(65, 65)\n",
      "torch.Size([4, 8])\n"
     ]
    }
   ],
   "source": [
    "m = BigramLanguageModel(vocab_size)\n",
    "print(m.token_embedding_table)\n",
    "print(xb.shape)"
   ]
  },
  {
   "cell_type": "code",
   "execution_count": 15,
   "id": "1112e021",
   "metadata": {},
   "outputs": [],
   "source": [
    "optimizer=torch.optim.AdamW(m.parameters(),lr=1e-3)"
   ]
  },
  {
   "cell_type": "code",
   "execution_count": 16,
   "id": "0d0d9463",
   "metadata": {},
   "outputs": [
    {
     "name": "stdout",
     "output_type": "stream",
     "text": [
      "3.668074131011963\n"
     ]
    }
   ],
   "source": [
    "batch_size=32 # this is used in get_batch--> output should be 32*8\n",
    "for steps in range(1000):\n",
    "    xb,yb= get_batch('train')\n",
    "    \n",
    "    logits, loss=m(xb,yb)\n",
    "    optimizer.zero_grad(set_to_none=True)\n",
    "    loss.backward() # meaning\n",
    "    optimizer.step() # meaning\n",
    "    \n",
    "print(loss.item())"
   ]
  },
  {
   "cell_type": "code",
   "execution_count": 17,
   "id": "7e0cd353",
   "metadata": {},
   "outputs": [
    {
     "data": {
      "text/plain": [
       "-4.174387269895637"
      ]
     },
     "execution_count": 17,
     "metadata": {},
     "output_type": "execute_result"
    }
   ],
   "source": [
    "import math\n",
    "math.log(1/65)"
   ]
  },
  {
   "cell_type": "markdown",
   "id": "cd073452",
   "metadata": {},
   "source": [
    "### Maths Self Attantion"
   ]
  },
  {
   "cell_type": "code",
   "execution_count": 18,
   "id": "057c7cf5",
   "metadata": {},
   "outputs": [
    {
     "data": {
      "text/plain": [
       "torch.Size([4, 8, 32])"
      ]
     },
     "execution_count": 18,
     "metadata": {},
     "output_type": "execute_result"
    }
   ],
   "source": [
    "## Evertyhing from the above code is almost clear now--> atleast the tensor size part.\n",
    "\n",
    "torch.manual_seed(1337)\n",
    "B,T,C = 4,8,32\n",
    "x=torch.randn(B,T,C)\n",
    "x.shape"
   ]
  },
  {
   "cell_type": "markdown",
   "id": "a197fcd9",
   "metadata": {},
   "source": [
    "Self attention pseudo example (querry, key, value)"
   ]
  },
  {
   "cell_type": "code",
   "execution_count": 19,
   "id": "5f3076bb",
   "metadata": {},
   "outputs": [],
   "source": [
    "import numpy as np\n",
    "class Node:\n",
    "    def __init__(self):\n",
    "        \n",
    "        # the vector stores at this node\n",
    "        self.data=np.random.randn(20) \n",
    "        \n",
    "        # weights governing how this node interacts with other nodes\n",
    "        self.wkey= np.random.randn(20,20)\n",
    "        self.wquery= np.random.randn(20,20)\n",
    "        self.wvalue= np.random.randn(20,20)\n",
    "        \n",
    "        \n",
    "    def key(self):\n",
    "        # what do i have ?\n",
    "        return self.wkey@self.data # why self@data\n",
    "    \n",
    "    def query(self):\n",
    "        # what am i looking for ?\n",
    "        return self.wquery@self.data # why self@data\n",
    "    def value(self):\n",
    "        # what do i publicly reveal or broadcast to others ?\n",
    "        return self.wvalue@self.data # why self@data\n",
    "\n",
    "\n",
    "\n",
    "class Graph:\n",
    "    def __init__(self):\n",
    "        # make 10 nodes\n",
    "        self.nodes=[Node() for _ in range(10)]\n",
    "        \n",
    "        # make 40 edges\n",
    "        randi=lambda: np.random.randint(len(self.nodes))\n",
    "        self.edges=[[randi(),randi()] for _ in range(40)] # does it include self node aswell\n",
    "        \n",
    "    def run(self):\n",
    "        updates=[]\n",
    "        for i, n in enumerate (self.nodes): # i,n --> integer value\n",
    "            \n",
    "            # what is this node looking for?\n",
    "            q=n.query() # q-> (20,1)\n",
    "            \n",
    "            # find all the edges that are input to this node\n",
    "            inputs=[self.nodes[ifrom] for (ifrom,ito) in self.edges if ito==i]\n",
    "            \n",
    "            if len(inputs)==0:\n",
    "                continue # ignore\n",
    "            # gather their keys, i.e. what they hold\n",
    "            keys=[m.keys() for m in inputs]\n",
    "            \n",
    "            # calculate the compatibilities\n",
    "            \n",
    "            scores= [k.dot(q) for k in keys]    # scaler\n",
    "            # softmax them so they sum to 1\n",
    "       \n",
    "            scores=np.exp(scores)\n",
    "            scores= scores/np.sum(scores) # normalized scores scaler\n",
    "            # gahter the appropriate values with a weighted sum\n",
    "            values= [m.value() for m in inputs]\n",
    "            update=sum([s*v for s,v in zip(scores,values)])\n",
    "            updates.append(update)\n",
    "            \n",
    "            \n",
    "            \n",
    "        for n,u in zip(self.nodes, updates):\n",
    "            n.data=n.data+u # residual connection\n",
    "            \n",
    "                \n",
    "            "
   ]
  },
  {
   "cell_type": "code",
   "execution_count": 20,
   "id": "1f330419",
   "metadata": {},
   "outputs": [
    {
     "name": "stdout",
     "output_type": "stream",
     "text": [
      "a=\n",
      "tensor([[1.0000, 0.0000, 0.0000],\n",
      "        [0.5000, 0.5000, 0.0000],\n",
      "        [0.3333, 0.3333, 0.3333]])\n",
      "--\n",
      "b=\n",
      "tensor([[2., 7.],\n",
      "        [6., 4.],\n",
      "        [6., 5.]])\n",
      "--\n",
      "c=\n",
      "tensor([[2.0000, 7.0000],\n",
      "        [4.0000, 5.5000],\n",
      "        [4.6667, 5.3333]])\n"
     ]
    }
   ],
   "source": [
    "# token talking is to summarize the interaction-- very lossy communication\n",
    "# \n",
    "\n",
    "# toy example illustrating how matrix multiplication can be used for a \"weighted aggregation\"\n",
    "torch.manual_seed(42)\n",
    "a = torch.tril(torch.ones(3, 3))\n",
    "a = a / torch.sum(a, 1, keepdim=True)\n",
    "b = torch.randint(0,10,(3,2)).float() # between 0 to 10 with size 3x2\n",
    "c = a @ b\n",
    "print('a=')\n",
    "print(a)\n",
    "print('--')\n",
    "print('b=')\n",
    "print(b)\n",
    "print('--')\n",
    "print('c=')\n",
    "print(c)\n",
    "# communciation step"
   ]
  },
  {
   "cell_type": "code",
   "execution_count": 21,
   "id": "dc43eed6",
   "metadata": {},
   "outputs": [
    {
     "data": {
      "text/plain": [
       "tensor([[1.],\n",
       "        [2.],\n",
       "        [3.]])"
      ]
     },
     "execution_count": 21,
     "metadata": {},
     "output_type": "execute_result"
    }
   ],
   "source": [
    "a = torch.tril(torch.ones(3, 3))\n",
    "torch.sum(a, 1, keepdim=True)"
   ]
  },
  {
   "cell_type": "code",
   "execution_count": 22,
   "id": "0982f5dd",
   "metadata": {},
   "outputs": [],
   "source": [
    "# each token contain a querry and a key vector--> querry vector is what am i looking for, key vector is what do i contain\n",
    "# my querry dot product with all the keys--> that dot product becomes wei(which was earlier just the average)"
   ]
  },
  {
   "cell_type": "code",
   "execution_count": 23,
   "id": "7f8547ac",
   "metadata": {},
   "outputs": [
    {
     "name": "stdout",
     "output_type": "stream",
     "text": [
      "torch.Size([2, 2])\n",
      "Mean of all elements: 2.5\n",
      "Mean along rows (dim=0): tensor([2., 3.])\n",
      "Mean along columns (dim=1): tensor([1.5000, 3.5000])\n"
     ]
    }
   ],
   "source": [
    "import torch\n",
    "# Create a tensor\n",
    "tensor = torch.tensor([[1.0, 2.0], [3.0, 4.0]])\n",
    "print(tensor.shape)\n",
    "# Calculate the mean of all elements in the tensor\n",
    "mean_all = torch.mean(tensor)\n",
    "print(f\"Mean of all elements: {mean_all}\")\n",
    "# Calculate the mean along a specific dimension (rows)\n",
    "mean_dim0 = torch.mean(tensor, dim=0)\n",
    "print(f\"Mean along rows (dim=0): {mean_dim0}\")\n",
    "# Calculate the mean along a specific dimension (columns)\n",
    "mean_dim1 = torch.mean(tensor, dim=1)\n",
    "print(f\"Mean along columns (dim=1): {mean_dim1}\")"
   ]
  },
  {
   "cell_type": "code",
   "execution_count": 24,
   "id": "5ab89ccc",
   "metadata": {},
   "outputs": [
    {
     "name": "stdout",
     "output_type": "stream",
     "text": [
      "tensor([-0.3596, -0.9152])\n"
     ]
    }
   ],
   "source": [
    "torch.manual_seed(1337)\n",
    "B,T,C = 4,8,2\n",
    "x=torch.randn(B,T,C)\n",
    "x.shape\n",
    "print(x[0,1])"
   ]
  },
  {
   "cell_type": "code",
   "execution_count": 25,
   "id": "60db8fbe",
   "metadata": {},
   "outputs": [],
   "source": [
    "# we want x[b,t]= mean_{i<=t} x[b,i]\n",
    "xbow=torch.zeros((B,T,C)) # bow is bag of words  -> word stored at each location and we are averaging\n",
    "\n",
    "for b in range(B):\n",
    "    for t in range(T):\n",
    "        xprev=x[b,:t+1] # (t,:c)\n",
    "        xbow[b,t] = torch.mean(xprev,0)\n",
    "# print(f\"xprev: {xprev}\")\n",
    "# print(f\"xbow: {xbow}\")\n",
    "\n",
    "# OKAY\n",
    "        "
   ]
  },
  {
   "cell_type": "code",
   "execution_count": 26,
   "id": "df9b2fef",
   "metadata": {},
   "outputs": [
    {
     "data": {
      "text/plain": [
       "tensor([[ 0.1808, -0.0700],\n",
       "        [-0.3596, -0.9152],\n",
       "        [ 0.6258,  0.0255],\n",
       "        [ 0.9545,  0.0643],\n",
       "        [ 0.3612,  1.1679],\n",
       "        [-1.3499, -0.5102],\n",
       "        [ 0.2360, -0.2398],\n",
       "        [-0.9211,  1.5433]])"
      ]
     },
     "execution_count": 26,
     "metadata": {},
     "output_type": "execute_result"
    }
   ],
   "source": [
    "x[0]"
   ]
  },
  {
   "cell_type": "code",
   "execution_count": 27,
   "id": "5327b154",
   "metadata": {},
   "outputs": [
    {
     "data": {
      "text/plain": [
       "tensor([[ 0.1808, -0.0700],\n",
       "        [-0.0894, -0.4926],\n",
       "        [ 0.1490, -0.3199],\n",
       "        [ 0.3504, -0.2238],\n",
       "        [ 0.3525,  0.0545],\n",
       "        [ 0.0688, -0.0396],\n",
       "        [ 0.0927, -0.0682],\n",
       "        [-0.0341,  0.1332]])"
      ]
     },
     "execution_count": 27,
     "metadata": {},
     "output_type": "execute_result"
    }
   ],
   "source": [
    "xbow[0]"
   ]
  },
  {
   "cell_type": "code",
   "execution_count": 28,
   "id": "24612492",
   "metadata": {},
   "outputs": [
    {
     "data": {
      "text/plain": [
       "-0.0894"
      ]
     },
     "execution_count": 28,
     "metadata": {},
     "output_type": "execute_result"
    }
   ],
   "source": [
    "(0.1808-0.3596)/2"
   ]
  },
  {
   "cell_type": "code",
   "execution_count": 29,
   "id": "7d30253b",
   "metadata": {},
   "outputs": [
    {
     "name": "stdout",
     "output_type": "stream",
     "text": [
      "tensor([[1., 0., 0., 0., 0., 0., 0., 0.],\n",
      "        [1., 1., 0., 0., 0., 0., 0., 0.],\n",
      "        [1., 1., 1., 0., 0., 0., 0., 0.],\n",
      "        [1., 1., 1., 1., 0., 0., 0., 0.],\n",
      "        [1., 1., 1., 1., 1., 0., 0., 0.],\n",
      "        [1., 1., 1., 1., 1., 1., 0., 0.],\n",
      "        [1., 1., 1., 1., 1., 1., 1., 0.],\n",
      "        [1., 1., 1., 1., 1., 1., 1., 1.]])\n",
      "tensor([[1.0000, 0.0000, 0.0000, 0.0000, 0.0000, 0.0000, 0.0000, 0.0000],\n",
      "        [0.5000, 0.5000, 0.0000, 0.0000, 0.0000, 0.0000, 0.0000, 0.0000],\n",
      "        [0.3333, 0.3333, 0.3333, 0.0000, 0.0000, 0.0000, 0.0000, 0.0000],\n",
      "        [0.2500, 0.2500, 0.2500, 0.2500, 0.0000, 0.0000, 0.0000, 0.0000],\n",
      "        [0.2000, 0.2000, 0.2000, 0.2000, 0.2000, 0.0000, 0.0000, 0.0000],\n",
      "        [0.1667, 0.1667, 0.1667, 0.1667, 0.1667, 0.1667, 0.0000, 0.0000],\n",
      "        [0.1429, 0.1429, 0.1429, 0.1429, 0.1429, 0.1429, 0.1429, 0.0000],\n",
      "        [0.1250, 0.1250, 0.1250, 0.1250, 0.1250, 0.1250, 0.1250, 0.1250]])\n",
      "4\n",
      "True\n",
      "False\n",
      "True\n",
      "True\n"
     ]
    }
   ],
   "source": [
    "wei=torch.tril(torch.ones(T,T))\n",
    "print(wei)\n",
    "wei=wei/wei.sum(dim=1,keepdim=True)\n",
    "print(wei)\n",
    "xbow2=wei@x # (T,T) @ (B,T,C) ---> (B(created),T,T) @ (B,T,C) --> batch multiplication #Ask Manisha why is it called bag of words?\n",
    "print(xbow.shape[0])\n",
    "for xin in range(xbow.shape[0]):\n",
    "    print(torch.allclose(xbow[xin],xbow2[xin]))#  xbow2 is same as xbow1 "
   ]
  },
  {
   "cell_type": "code",
   "execution_count": 30,
   "id": "9bba8eaa",
   "metadata": {},
   "outputs": [
    {
     "data": {
      "text/plain": [
       "False"
      ]
     },
     "execution_count": 30,
     "metadata": {},
     "output_type": "execute_result"
    }
   ],
   "source": [
    "# version 2: using matrix multiply for a weighted aggregation\n",
    "wei = torch.tril(torch.ones(T, T))\n",
    "wei = wei / wei.sum(1, keepdim=True)\n",
    "xbow2 = wei @ x # (B, T, T) @ (B, T, C) ----> (B, T, C)\n",
    "torch.allclose(xbow, xbow2)"
   ]
  },
  {
   "cell_type": "code",
   "execution_count": 31,
   "id": "b8d0ebc8",
   "metadata": {},
   "outputs": [],
   "source": [
    "# wei = torch.tril(torch.ones(3, 3))\n",
    "# wei.sum(1,keepdim=True)\n",
    "# wei.sum(1,keepdim=False)\n",
    "# wei.sum(0,keepdim=False)\n",
    "# wei.sum(0,keepdim=True)"
   ]
  },
  {
   "cell_type": "code",
   "execution_count": 32,
   "id": "cd87dab0",
   "metadata": {},
   "outputs": [],
   "source": [
    "# print(xbow2[1])\n",
    "# print(xbow[1])\n",
    "# print(torch.allclose(xbow[1],xbow2[1]))"
   ]
  },
  {
   "cell_type": "code",
   "execution_count": 33,
   "id": "fdbf0e15",
   "metadata": {},
   "outputs": [
    {
     "data": {
      "text/plain": [
       "False"
      ]
     },
     "execution_count": 33,
     "metadata": {},
     "output_type": "execute_result"
    }
   ],
   "source": [
    "# version 3: use Softmax\n",
    "tril = torch.tril(torch.ones(T, T))\n",
    "wei = torch.zeros((T,T))\n",
    "wei = wei.masked_fill(tril == 0, float('-inf'))\n",
    "wei = F.softmax(wei, dim=-1)\n",
    "xbow3 = wei @ x\n",
    "torch.allclose(xbow, xbow3)"
   ]
  },
  {
   "cell_type": "code",
   "execution_count": 34,
   "id": "b138f972",
   "metadata": {},
   "outputs": [],
   "source": [
    "##### Start from here ########"
   ]
  },
  {
   "cell_type": "code",
   "execution_count": 35,
   "id": "fc4ffd95",
   "metadata": {},
   "outputs": [],
   "source": [
    "import numpy as np\n",
    "\n",
    "class Node:\n",
    "    def __init__(self):\n",
    "        \n",
    "        # the vector stores at this node\n",
    "        self.data=np.random.randn(20) \n",
    "        \n",
    "        # weights governing how this node interacts with other nodes\n",
    "        self.wkey= np.random.randn(20,20)\n",
    "        self.wquery= np.random.randn(20,20)\n",
    "        self.wvalue= np.random.randn(20,20)\n",
    "        \n",
    "        \n",
    "    def key(self):\n",
    "        # what do i have ?\n",
    "        return self.wkey@self.data # why self@data\n",
    "    \n",
    "    def query(self):\n",
    "        # what am i looking for ?\n",
    "        return self.wquery@self.data # why self@data\n",
    "    def value(self):\n",
    "        # what do i publicly reveal or broadcast to others ?\n",
    "        return self.wvalue@self.data # why self@data\n",
    "\n",
    "\n",
    "\n",
    "\n",
    "class Graph:\n",
    "    def __init__(self):\n",
    "        # make 10 nodes\n",
    "        self.nodes=[Node() for _ in range(10)]\n",
    "        \n",
    "        # make 40 edges\n",
    "        randi=lambda: np.random.randint(len(self.nodes))\n",
    "        self.edges=[[randi(),randi()] for _ in range(40)] # does it include self node aswell\n",
    "        \n",
    "    def run(self):\n",
    "        updates=[]\n",
    "        for i, n in enumerate (self.nodes):\n",
    "            \n",
    "            # what is this node lookinf for?\n",
    "            q=n.query()\n",
    "            print(f\"shape of querry is {np.array(q).shape}\")\n",
    "            # find all the edges that are input to this node\n",
    "            inputs=[self.nodes[ifrom] for (ifrom,ito) in self.edges if ito==i]\n",
    "            \n",
    "            if len(inputs)==0:\n",
    "                continue # ignore\n",
    "            # gather their keys, i.e. what they hold\n",
    "            keys=[m.key() for m in inputs]\n",
    "            # k1=np.array(keys)\n",
    "            # calculate the compatibilities\n",
    "            \n",
    "            scores= [k.dot(q) for k in keys]\n",
    "\n",
    "   \n",
    "            # softmax them so they sum to 1\n",
    "            scores=np.exp(scores)\n",
    "            scores= scores/np.sum(scores)\n",
    "            # gahter the appropriate values with a weighted sum\n",
    "            values= [m.value() for m in inputs]\n",
    "\n",
    "            \n",
    "            update=sum([s*v for s,v in zip(scores,values)])\n",
    "            print(f\"shape of inputs is {np.array(inputs).shape}\")\n",
    "            \n",
    "            print(f\"shape of values is {np.array(values).shape}\")\n",
    "            print(f\"shape of keys is {np.array(keys).shape}\")\n",
    "            print(f\"shape of score (softmat(k.dot(q))) is {np.array(scores).shape}\")\n",
    "            print(f\"shape of update is {np.array(update).shape}\")\n",
    "\n",
    "\n",
    "            updates.append(update)\n",
    "            \n",
    "            \n",
    "            \n",
    "        for n,u in zip(self.nodes, updates):\n",
    "            n.data=n.data+u # residual connection\n",
    "\n",
    "            # dimension ask prajyot\n",
    "        \n",
    "            \n",
    "            \n",
    "            \n",
    "            \n",
    "        \n",
    "        \n"
   ]
  },
  {
   "cell_type": "code",
   "execution_count": 36,
   "id": "3b88607f",
   "metadata": {},
   "outputs": [
    {
     "name": "stdout",
     "output_type": "stream",
     "text": [
      "shape of querry is (20,)\n",
      "shape of inputs is (2,)\n",
      "shape of values is (2, 20)\n",
      "shape of keys is (2, 20)\n",
      "shape of score (softmat(k.dot(q))) is (2,)\n",
      "shape of update is (20,)\n",
      "shape of querry is (20,)\n",
      "shape of inputs is (2,)\n",
      "shape of values is (2, 20)\n",
      "shape of keys is (2, 20)\n",
      "shape of score (softmat(k.dot(q))) is (2,)\n",
      "shape of update is (20,)\n",
      "shape of querry is (20,)\n",
      "shape of inputs is (4,)\n",
      "shape of values is (4, 20)\n",
      "shape of keys is (4, 20)\n",
      "shape of score (softmat(k.dot(q))) is (4,)\n",
      "shape of update is (20,)\n",
      "shape of querry is (20,)\n",
      "shape of inputs is (3,)\n",
      "shape of values is (3, 20)\n",
      "shape of keys is (3, 20)\n",
      "shape of score (softmat(k.dot(q))) is (3,)\n",
      "shape of update is (20,)\n",
      "shape of querry is (20,)\n",
      "shape of inputs is (5,)\n",
      "shape of values is (5, 20)\n",
      "shape of keys is (5, 20)\n",
      "shape of score (softmat(k.dot(q))) is (5,)\n",
      "shape of update is (20,)\n",
      "shape of querry is (20,)\n",
      "shape of inputs is (5,)\n",
      "shape of values is (5, 20)\n",
      "shape of keys is (5, 20)\n",
      "shape of score (softmat(k.dot(q))) is (5,)\n",
      "shape of update is (20,)\n",
      "shape of querry is (20,)\n",
      "shape of inputs is (7,)\n",
      "shape of values is (7, 20)\n",
      "shape of keys is (7, 20)\n",
      "shape of score (softmat(k.dot(q))) is (7,)\n",
      "shape of update is (20,)\n",
      "shape of querry is (20,)\n",
      "shape of inputs is (2,)\n",
      "shape of values is (2, 20)\n",
      "shape of keys is (2, 20)\n",
      "shape of score (softmat(k.dot(q))) is (2,)\n",
      "shape of update is (20,)\n",
      "shape of querry is (20,)\n",
      "shape of inputs is (8,)\n",
      "shape of values is (8, 20)\n",
      "shape of keys is (8, 20)\n",
      "shape of score (softmat(k.dot(q))) is (8,)\n",
      "shape of update is (20,)\n",
      "shape of querry is (20,)\n",
      "shape of inputs is (2,)\n",
      "shape of values is (2, 20)\n",
      "shape of keys is (2, 20)\n",
      "shape of score (softmat(k.dot(q))) is (2,)\n",
      "shape of update is (20,)\n"
     ]
    }
   ],
   "source": [
    "t1=Graph()\n",
    "t1.run()"
   ]
  },
  {
   "cell_type": "code",
   "execution_count": 37,
   "id": "b8f126c2",
   "metadata": {},
   "outputs": [
    {
     "name": "stdout",
     "output_type": "stream",
     "text": [
      "(2,)\n",
      "0.0010062506\n",
      "torch.Size([20])\n",
      "s*v is (tensor([ 1.6320e-03,  1.0842e-03,  5.9850e-04, -1.5386e-03, -9.0166e-04,\n",
      "         6.6605e-05, -5.6632e-05,  2.3559e-03, -1.0092e-04,  1.0605e-03,\n",
      "        -6.2697e-04, -1.6005e-03,  4.5367e-06,  2.0602e-03, -1.5853e-04,\n",
      "        -2.2004e-04, -1.0832e-03,  2.6066e-03,  4.9715e-04,  4.7009e-04]))\n",
      "0.99899375\n",
      "torch.Size([20])\n",
      "s*v is (tensor([-0.3451, -1.1613,  0.1443,  0.1662,  1.0774, -0.6143, -0.4584,  0.5669,\n",
      "         0.0958, -1.5684,  0.3736, -0.1419, -1.2411, -0.9609, -0.0849,  0.1184,\n",
      "         0.1462,  0.2534,  0.2134,  0.3111]))\n",
      "update is tensor([-0.3434, -1.1602,  0.1449,  0.1646,  1.0765, -0.6143, -0.4584,  0.5693,\n",
      "         0.0957, -1.5673,  0.3730, -0.1435, -1.2411, -0.9588, -0.0851,  0.1182,\n",
      "         0.1452,  0.2560,  0.2139,  0.3115])\n"
     ]
    }
   ],
   "source": [
    "q1=torch.randn(20)\n",
    "q1.shape\n",
    "k_connected=torch.randn(2,20)\n",
    "scores= [k.dot(q1) for k in k_connected]\n",
    "scores=np.exp(scores)\n",
    "scores= scores/np.sum(scores)\n",
    "print(scores.shape)\n",
    "values=torch.randn(2,20)\n",
    "for s,v in zip (scores,values):\n",
    "    print(s)\n",
    "    print(v.shape)\n",
    "    print(f\"s*v is ({s*v})\")\n",
    "update=sum([s*v for s,v in zip(scores,values)])\n",
    "print(f\"update is {update}\")\n"
   ]
  },
  {
   "cell_type": "code",
   "execution_count": null,
   "id": "85617978",
   "metadata": {},
   "outputs": [],
   "source": []
  },
  {
   "cell_type": "code",
   "execution_count": 56,
   "id": "00ed9140",
   "metadata": {},
   "outputs": [
    {
     "name": "stdout",
     "output_type": "stream",
     "text": [
      "tensor([[1., 0., 0., 0., 0., 0., 0., 0.],\n",
      "        [1., 1., 0., 0., 0., 0., 0., 0.],\n",
      "        [1., 1., 1., 0., 0., 0., 0., 0.],\n",
      "        [1., 1., 1., 1., 0., 0., 0., 0.],\n",
      "        [1., 1., 1., 1., 1., 0., 0., 0.],\n",
      "        [1., 1., 1., 1., 1., 1., 0., 0.],\n",
      "        [1., 1., 1., 1., 1., 1., 1., 0.],\n",
      "        [1., 1., 1., 1., 1., 1., 1., 1.]])\n",
      "torch.Size([4, 8, 8])\n",
      "tensor([[0.1245, 0.4640, 0.4816, 0.8707],\n",
      "        [0.1398, 0.6107, 0.3780, 0.5809],\n",
      "        [0.2623, 0.9278, 0.5112, 0.0747],\n",
      "        [0.7416, 0.3508, 0.9414, 0.4156]])\n",
      "tensor([[0.1245,   -inf,   -inf,   -inf],\n",
      "        [0.1398, 0.6107,   -inf,   -inf],\n",
      "        [0.2623, 0.9278, 0.5112,   -inf],\n",
      "        [0.7416, 0.3508, 0.9414, 0.4156]])\n"
     ]
    }
   ],
   "source": [
    "# version 4: self-attention!\n",
    "torch.manual_seed(1337)\n",
    "B,T,C = 4,8,32 # batch, time, channels\n",
    "x = torch.randn(B,T,C)\n",
    "\n",
    "#################\n",
    "\n",
    "# every single token will emit querry(what i am looking for) and a key(what do i contain)\n",
    "# if key and querry are aligned then we will interact more with that token\n",
    "\n",
    "# let's see a single Head perform self-attention\n",
    "head_size = 16 # hyperparameter \n",
    "key = nn.Linear(C, head_size, bias=False)\n",
    "query = nn.Linear(C, head_size, bias=False) # difference between embedding and this thing?\n",
    "value = nn.Linear(C, head_size, bias=False) # we aggregate value not tokens\n",
    "# if you are interested in me, here is what i will communicatte to you--> v gets aggregate\n",
    " \n",
    "# confusion is here\n",
    "# (b,t,c) --> (b,t,16)\n",
    "# creating key and queery\n",
    "k = key(x)   # (B, T, 16) \n",
    "q = query(x) # (B, T, 16)\n",
    "# wei or the affinity\n",
    "wei =  q @ k.transpose(-2, -1) # (B, T, 16) @ (B, 16, T) ---> (B, T, T)  # transpose last two dimensions \n",
    "# do we have to give them pairs\n",
    " # bash matrix multiplication \n",
    "\n",
    "tril = torch.tril(torch.ones(T, T))\n",
    "print(tril)\n",
    "print(wei.shape)\n",
    "tril2=torch.tril(torch.ones(4,4))\n",
    "k=torch.rand(4,4)\n",
    "kt=k.masked_fill(tril2 == 0, float('-inf'))\n",
    "print(k)\n",
    "print(kt)"
   ]
  },
  {
   "cell_type": "code",
   "execution_count": 39,
   "id": "b0daf655",
   "metadata": {},
   "outputs": [
    {
     "data": {
      "text/plain": [
       "torch.Size([4, 8, 16])"
      ]
     },
     "execution_count": 39,
     "metadata": {},
     "output_type": "execute_result"
    }
   ],
   "source": [
    "#wei = torch.zeros((T,T))\n",
    "wei = wei.masked_fill(tril == 0, float('-inf')) # in the decoder block this will always be present, \n",
    "                                                # in the encoder block this will be asbset\n",
    "wei = F.softmax(wei, dim=-1) #dimension -1 why?\n",
    "\n",
    "v = value(x)\n",
    "out = wei @ v\n",
    "#out = wei @ x\n",
    "\n",
    "out.shape"
   ]
  },
  {
   "cell_type": "code",
   "execution_count": 40,
   "id": "3ad65ffd",
   "metadata": {},
   "outputs": [],
   "source": [
    "#######################  portion from the repo  #################################"
   ]
  },
  {
   "cell_type": "code",
   "execution_count": 41,
   "id": "1aeb6c77",
   "metadata": {},
   "outputs": [],
   "source": [
    "import torch\n",
    "import torch.nn as nn\n",
    "from torch.nn import functional as F\n",
    "\n",
    "# hyperparameters\n",
    "batch_size = 16 # how many independent sequences will we process in parallel?\n",
    "block_size = 32 # what is the maximum context length for predictions?\n",
    "max_iters = 1000\n",
    "eval_interval = 100\n",
    "learning_rate = 1e-3\n",
    "device = 'cuda' if torch.cuda.is_available() else 'cpu'\n",
    "eval_iters = 200\n",
    "n_embd = 64\n",
    "n_head = 4 # it is h in the picture\n",
    "n_layer = 4\n",
    "dropout = 0.0"
   ]
  },
  {
   "attachments": {
    "image.png": {
     "image/png": "[encoded data removed]"
    }
   },
   "cell_type": "markdown",
   "id": "900c6496",
   "metadata": {},
   "source": [
    "![image.png](attachment:image.png)"
   ]
  },
  {
   "attachments": {
    "image-2.png": {
     "image/png": "[encoded data removed]"
    }
   },
   "cell_type": "markdown",
   "id": "2589c9bc",
   "metadata": {},
   "source": [
    "![image-2.png](attachment:image-2.png)"
   ]
  },
  {
   "cell_type": "code",
   "execution_count": null,
   "id": "0dfce4a5",
   "metadata": {},
   "outputs": [],
   "source": []
  },
  {
   "cell_type": "code",
   "execution_count": null,
   "id": "bfbfab4f",
   "metadata": {},
   "outputs": [],
   "source": [
    "\n",
    "with open('input_tiny.txt', 'r', encoding='utf-8') as f:\n",
    "    text = f.read()\n",
    "\n",
    "# here are all the unique characters that occur in this text\n",
    "chars = sorted(list(set(text)))\n",
    "vocab_size = len(chars)\n",
    "# create a mapping from characters to integers\n",
    "stoi = { ch:i for i,ch in enumerate(chars) }\n",
    "itos = { i:ch for i,ch in enumerate(chars) }\n",
    "encode = lambda s: [stoi[c] for c in s] # encoder: take a string, output a list of integers\n",
    "decode = lambda l: ''.join([itos[i] for i in l]) # decoder: take a list of integers, output a string\n",
    "\n",
    "# Train and test splits\n",
    "data = torch.tensor(encode(text), dtype=torch.long)\n",
    "n = int(0.9*len(data)) # first 90% will be train, rest val\n",
    "train_data = data[:n]\n",
    "val_data = data[n:]\n",
    "\n",
    "# data loading\n",
    "def get_batch(split):\n",
    "    # generate a small batch of data of inputs x and targets y\n",
    "    data = train_data if split == 'train' else val_data\n",
    "    ix = torch.randint(len(data) - block_size, (batch_size,))\n",
    "    x = torch.stack([data[i:i+block_size] for i in ix])\n",
    "    y = torch.stack([data[i+1:i+block_size+1] for i in ix])\n",
    "    x, y = x.to(device), y.to(device)\n",
    "    return x, y\n",
    "\n",
    "@torch.no_grad()\n",
    "def estimate_loss():\n",
    "    out = {}\n",
    "    model.eval()\n",
    "    for split in ['train', 'val']:\n",
    "        losses = torch.zeros(eval_iters) #eval_iters = 200\n",
    "        for k in range(eval_iters):\n",
    "            X, Y = get_batch(split)\n",
    "            logits, loss = model(X, Y)\n",
    "            losses[k] = loss.item()# per batch losses\n",
    "        out[split] = losses.mean() # after iteration loss\n",
    "    model.train()\n",
    "    return out\n",
    "\n",
    "class Head(nn.Module): ###????????????\n",
    "    \"\"\" one head of self-attention \"\"\" \n",
    "\n",
    "    def __init__(self, head_size):\n",
    "        super().__init__()\n",
    "        self.key = nn.Linear(n_embd, head_size, bias=False)\n",
    "        # n_embd = 64\n",
    "        # n_head = 4\n",
    "        self.query = nn.Linear(n_embd, head_size, bias=False)\n",
    "        self.value = nn.Linear(n_embd, head_size, bias=False)\n",
    "        self.register_buffer('tril', torch.tril(torch.ones(block_size, block_size))) # why do we use register_buffer?\n",
    "        # block size= 32\n",
    "        self.dropout = nn.Dropout(dropout)\n",
    "\n",
    "    def forward(self, x):\n",
    "        B,T,C = x.shape # C is embd size\n",
    "        k = self.key(x)   # (B,T,C) is C is head size\n",
    "        q = self.query(x) # (B,T,C)\n",
    "        # compute attention scores (\"affinities\")\n",
    "        wei = q @ k.transpose(-2,-1) * C**-0.5 # (B, T, C) @ (B, C, T) -> (B, T, T)\n",
    "        wei = wei.masked_fill(self.tril[:T, :T] == 0, float('-inf')) # (B, T, T)\n",
    "        wei = F.softmax(wei, dim=-1) # (B, T, T)\n",
    "        wei = self.dropout(wei)\n",
    "        # perform the weighted aggregation of the values\n",
    "        v = self.value(x) # (B,T,C)\n",
    "        out = wei @ v # (B, T, T) @ (B, T, C) -> (B, T, C)\n",
    "        # understood \n",
    "        return out\n",
    "\n",
    "class MultiHeadAttention(nn.Module): ###???????????????\n",
    "    \"\"\" multiple heads of self-attention in parallel \"\"\"\n",
    "\n",
    "    def __init__(self, num_heads, head_size):\n",
    "        super().__init__()\n",
    "        self.heads = nn.ModuleList([Head(head_size) for _ in range(num_heads)]) # ???--> h in the figure\n",
    "        self.proj = nn.Linear(n_embd, n_embd) #n_embd = 64 ?? ???? still not clear\n",
    "        self.dropout = nn.Dropout(dropout)\n",
    "\n",
    "    def forward(self, x):\n",
    "        k=[h(x) for h in self.heads]\n",
    "        # print([h(x) for h in self.heads])\n",
    "        out = torch.cat([h(x) for h in self.heads], dim=-1) #### why dim 1 ### most likely b,t,c\n",
    "        # print(f\"multi head size {out.shape}\")\n",
    "        out = self.dropout(self.proj(out)) #3 ?????????? --  out.shape\n",
    "        return out\n",
    "\n",
    "class FeedFoward(nn.Module):\n",
    "    \"\"\" a simple linear layer followed by a non-linearity \"\"\"\n",
    "\n",
    "    def __init__(self, n_embd):\n",
    "        super().__init__()\n",
    "        self.net = nn.Sequential(\n",
    "            nn.Linear(n_embd, 4 * n_embd),\n",
    "            nn.ReLU(),\n",
    "            nn.Linear(4 * n_embd, n_embd),\n",
    "            nn.Dropout(dropout),\n",
    "        )\n",
    "\n",
    "    def forward(self, x):\n",
    "        return self.net(x)\n",
    "\n",
    "class Block(nn.Module):\n",
    "    \"\"\" Transformer block: communication followed by computation \"\"\"\n",
    "\n",
    "    def __init__(self, n_embd, n_head):\n",
    "        # n_embd: embedding dimension, n_head: the number of heads we'd like\n",
    "        super().__init__()\n",
    "        head_size = n_embd // n_head ## 32/4=8\n",
    "        self.sa = MultiHeadAttention(n_head, head_size) ## expeted b,t,c\n",
    "        self.ffwd = FeedFoward(n_embd)\n",
    "        self.ln1 = nn.LayerNorm(n_embd) ###???\n",
    "        self.ln2 = nn.LayerNorm(n_embd) ###???\n",
    "\n",
    "    def forward(self, x):\n",
    "        x = x + self.sa(self.ln1(x)) ##?? Residual\n",
    "        x = x + self.ffwd(self.ln2(x)) ##???\n",
    "        return x"
   ]
  },
  {
   "cell_type": "code",
   "execution_count": 43,
   "id": "a669d474",
   "metadata": {},
   "outputs": [
    {
     "name": "stdout",
     "output_type": "stream",
     "text": [
      "0.209729 M parameters\n"
     ]
    }
   ],
   "source": [
    "#  bigram model\n",
    "class BigramLanguageModel(nn.Module):\n",
    "\n",
    "    def __init__(self):\n",
    "        super().__init__()\n",
    "        # each token directly reads off the logits for the next token from a lookup table\n",
    "        self.token_embedding_table = nn.Embedding(vocab_size, n_embd)\n",
    "        self.position_embedding_table = nn.Embedding(block_size, n_embd) # block size is context size-chaeck\n",
    "        self.blocks = nn.Sequential(*[Block(n_embd, n_head=n_head) for _ in range(n_layer)]) #####??????\n",
    "        # sequential block size ek ke baad ek\n",
    "        self.ln_f = nn.LayerNorm(n_embd) # final layer norm\n",
    "        self.lm_head = nn.Linear(n_embd, vocab_size)\n",
    "\n",
    "    def forward(self, idx, targets=None):\n",
    "        B, T = idx.shape\n",
    "\n",
    "        # idx and targets are both (B,T) tensor of integers\n",
    "        tok_emb = self.token_embedding_table(idx) # (B,T,C)\n",
    "        pos_emb = self.position_embedding_table(torch.arange(T, device=device)) # (T,C)\n",
    "        x = tok_emb + pos_emb # (B,T,C)\n",
    "        x = self.blocks(x) # (B,T,C)\n",
    "        x = self.ln_f(x) # (B,T,C)\n",
    "        logits = self.lm_head(x) # (B,T,vocab_size)\n",
    "\n",
    "        if targets is None:\n",
    "            loss = None\n",
    "        else:\n",
    "            B, T, C = logits.shape\n",
    "            logits = logits.view(B*T, C)\n",
    "            targets = targets.view(B*T)\n",
    "            loss = F.cross_entropy(logits, targets)\n",
    "\n",
    "        return logits, loss\n",
    "\n",
    "    def generate(self, idx, max_new_tokens):\n",
    "        print(f\"context is idx {idx}\")\n",
    "        idx_cond = idx[:, -block_size:]\n",
    "        print(f\"idx_cond is {idx_cond}\")\n",
    "        # idx is (B, T) array of indices in the current context\n",
    "        \n",
    "        for _ in range(max_new_tokens):\n",
    "            # crop idx to the last block_size tokens\n",
    "            idx_cond = idx[:, -block_size:]\n",
    "            # get the predictions\n",
    "            logits, loss = self(idx_cond)\n",
    "            # focus only on the last time step\n",
    "            logits = logits[:, -1, :] # becomes (B, C)\n",
    "            # apply softmax to get probabilities\n",
    "            probs = F.softmax(logits, dim=-1) # (B, C)\n",
    "            # sample from the distribution\n",
    "            idx_next = torch.multinomial(probs, num_samples=1) # (B, 1)\n",
    "            # append sampled index to the running sequence\n",
    "            idx = torch.cat((idx, idx_next), dim=1) # (B, T+1)\n",
    "        return idx\n",
    "\n",
    "model = BigramLanguageModel()\n",
    "m = model.to(device)\n",
    "# print the number of parameters in the model\n",
    "print(sum(p.numel() for p in m.parameters())/1e6, 'M parameters')\n",
    "\n",
    "# create a PyTorch optimizer\n",
    "optimizer = torch.optim.AdamW(model.parameters(), lr=learning_rate)\n",
    "\n",
    "\n"
   ]
  },
  {
   "cell_type": "code",
   "execution_count": 44,
   "id": "895707a4",
   "metadata": {},
   "outputs": [
    {
     "name": "stdout",
     "output_type": "stream",
     "text": [
      "step 0: train loss 4.3292, val loss 4.3287\n",
      "step 100: train loss 2.6442, val loss 2.6464\n",
      "step 200: train loss 2.5105, val loss 2.5046\n",
      "step 300: train loss 2.4223, val loss 2.4414\n",
      "step 400: train loss 2.3589, val loss 2.3742\n",
      "step 500: train loss 2.3122, val loss 2.3292\n",
      "step 600: train loss 2.2670, val loss 2.2735\n",
      "step 700: train loss 2.2115, val loss 2.2330\n",
      "step 800: train loss 2.1815, val loss 2.2047\n",
      "step 900: train loss 2.1428, val loss 2.1796\n",
      "step 999: train loss 2.0989, val loss 2.1408\n"
     ]
    }
   ],
   "source": [
    "for iter in range(max_iters):\n",
    "\n",
    "    # every once in a while evaluate the loss on train and val sets\n",
    "    if iter % eval_interval == 0 or iter == max_iters - 1:\n",
    "        losses = estimate_loss()\n",
    "        print(f\"step {iter}: train loss {losses['train']:.4f}, val loss {losses['val']:.4f}\")\n",
    "\n",
    "    # sample a batch of data\n",
    "    xb, yb = get_batch('train')\n",
    "\n",
    "    # evaluate the loss\n",
    "    logits, loss = model(xb, yb)\n",
    "    optimizer.zero_grad(set_to_none=True)\n",
    "    loss.backward()\n",
    "    optimizer.step()\n",
    "\n",
    "# # generate from the model\n",
    "# context = torch.zeros((1, 1), dtype=torch.long, device=device)\n",
    "# print(decode(m.generate(context, max_new_tokens=2000)[0].tolist()))"
   ]
  },
  {
   "cell_type": "code",
   "execution_count": 45,
   "id": "3bd8f561",
   "metadata": {},
   "outputs": [
    {
     "name": "stdout",
     "output_type": "stream",
     "text": [
      "40\n"
     ]
    }
   ],
   "source": [
    "# m = model.to(device)\n",
    "# generate from the model\n",
    "context = torch.zeros((1, 1), dtype=torch.long, device=device)\n",
    "\n",
    "sten=\"Before we proceed any further, hear me s\"\n",
    "sten_encode=encode(sten)\n",
    "print(len(sten_encode))\n"
   ]
  },
  {
   "cell_type": "code",
   "execution_count": 46,
   "id": "6c25bb6e",
   "metadata": {},
   "outputs": [
    {
     "name": "stdout",
     "output_type": "stream",
     "text": [
      "torch.Size([8, 5])\n"
     ]
    }
   ],
   "source": [
    "context=torch.tensor(sten_encode).view(8,-1)\n",
    "print(context.shape)"
   ]
  },
  {
   "cell_type": "code",
   "execution_count": 47,
   "id": "d6307da9",
   "metadata": {},
   "outputs": [
    {
     "name": "stdout",
     "output_type": "stream",
     "text": [
      "context is idx tensor([[14, 43, 44, 53, 56],\n",
      "        [43,  1, 61, 43,  1],\n",
      "        [54, 56, 53, 41, 43],\n",
      "        [43, 42,  1, 39, 52],\n",
      "        [63,  1, 44, 59, 56],\n",
      "        [58, 46, 43, 56,  6],\n",
      "        [ 1, 46, 43, 39, 56],\n",
      "        [ 1, 51, 43,  1, 57]])\n",
      "idx_cond is tensor([[14, 43, 44, 53, 56],\n",
      "        [43,  1, 61, 43,  1],\n",
      "        [54, 56, 53, 41, 43],\n",
      "        [43, 42,  1, 39, 52],\n",
      "        [63,  1, 44, 59, 56],\n",
      "        [58, 46, 43, 56,  6],\n",
      "        [ 1, 46, 43, 39, 56],\n",
      "        [ 1, 51, 43,  1, 57]])\n",
      "Befor,\n",
      "By beat muon thee hamme e roseed.\n",
      "\n",
      "LAKWARD RKE\n",
      "\n",
      "YIMNENRD:\n",
      "Hencar a fathan that andppas to sar, Yur\n",
      "He he is sirglaid ovanot hist his crondiat seevevo stad;\n",
      "O, nast stincule sor nope you thave hiM may searte e, beava efied efar\n",
      "Warger thele' but hy tou ast byeasen.\n",
      "\n",
      "UNEURK:\n",
      "Lontlys i'd haven bry gie trous ofer hat,\n",
      "The ning Core and wetsis hen tand\n",
      "I and bon liftirng is afor wasl he,\n",
      "And deealt nomer:' ritt hat arnthinf as be mande.\n",
      "\n",
      "ARDULE:\n",
      "I s\n",
      "Thave feuch baken is f muspe ees so'd's.\n",
      "\n",
      "UTICERTEE:\n",
      "Whis? Inlach shat douk, no his cheeid:\n",
      "Hem wivebe ret hy ligs:\n",
      "He with the shorblio Have anws lassw sto matis\n",
      "Harlore wish, fill Heasus of Rant that ave Kheryele.\n",
      "\n",
      "Fir Mevedbsut saife, here sind omakbace, soartin;\n",
      "Het con thy nurs as to be sordy thand not norerllc\n",
      "Shalll and warn wour you dolk be hache thaps doun lebot\n",
      "Guved dalden, and goown as nalst\n",
      "Have bey andir thou ou ownflear wit. I's Haved me fae, heare,\n",
      "And mather deiontos sache, hise! swland thou save be tupncerr;\n",
      "And thee them non stare: bur E talay and an what that dambre omptather, Whersch'dy, and that.\n",
      "\n",
      "\n",
      "HARD IOLEOR:\n",
      "Shen, iM's what strrais !-\n",
      "\n",
      "HiDwid mopten say, do srives shanin the the oue ont\n",
      "But he if farros the man buthe his the havee,\n",
      "What nazel sthe penascer sut? Myour'dyes miblan.\n",
      "\n",
      "\n",
      "stut Comor, but my malese grounce.\n",
      "\n",
      "LAINO:\n",
      "I to Enow'y as no thow the loong that xsnd houly us me noy\n",
      "Whe lour low for sot nacur mugh\n",
      "Anded trane of scaygen on look; sup,\n",
      "The wou bot Is shalles cort nack;\n",
      "To nars wyout lew so's meang Is of dren dowberrcos,\n",
      "And shafur lalt noms her whaguld storer to's the manty\n",
      "Me share coumace theb, courstor tome peint?\n",
      "\n",
      "Wiveg witth? Ed Buth ar hell slen Hevreaty lund\n",
      "Tun he sor if me laus sentt you he she fe hand still oull you\n",
      "Is ris thouly now thave have wath,\n",
      "By 'This us have blow ghavig seveed.\n",
      "The it wars\n",
      "Andeces a youach wand shat hin t, whe supre.\n",
      "\n",
      "Shat I then im: thous pooon, pour\n",
      "And not heir b here'she mist ay wid:\n",
      "Whis upratht seat rut. So thops, knot lange.\n",
      "And not warde, fal\n"
     ]
    }
   ],
   "source": [
    "print(decode(m.generate(context, max_new_tokens=2000)[0].tolist())) # zero is for batch one"
   ]
  },
  {
   "cell_type": "code",
   "execution_count": null,
   "id": "95fd75d0",
   "metadata": {},
   "outputs": [],
   "source": []
  },
  {
   "cell_type": "code",
   "execution_count": 48,
   "id": "c264e477",
   "metadata": {},
   "outputs": [],
   "source": [
    "###################### end decoder only ###########################################"
   ]
  },
  {
   "cell_type": "code",
   "execution_count": 49,
   "id": "9589a986",
   "metadata": {},
   "outputs": [],
   "source": [
    "\n",
    "############## encoder decoder ##############################       "
   ]
  },
  {
   "cell_type": "code",
   "execution_count": 50,
   "id": "71fa3894",
   "metadata": {},
   "outputs": [],
   "source": [
    "###################### Step 2 and Step 3 ################"
   ]
  },
  {
   "cell_type": "markdown",
   "id": "9958062d",
   "metadata": {},
   "source": [
    "Notes:\n",
    "\n",
    "- Attention is a \\boldface{communication mechanism}. Can be seen as nodes in a directed graph looking at each other and aggregating information with a weighted sum from all nodes that point to them, with data-dependent weights.\n",
    "- There is no notion of space. Attention simply acts over a set of vectors. This is why we need to positionally encode tokens.\n",
    "- Each example across batch dimension is of course processed completely independently and never \"talk\" to each other\n",
    "- In an \"encoder\" attention block just delete the single line that does masking with tril, allowing all tokens to communicate. This block here is called a \"decoder\" attention block because it has triangular masking, and is usually used in autoregressive settings, like language modeling.\n",
    "- \"self-attention\" just means that the keys and values are produced from the same source as queries. In \"cross-attention\", the queries still get produced from x, but the keys and values come from some other, external source (e.g. an encoder module)\n",
    "- \"Scaled\" attention additional divides wei by 1/sqrt(head_size). This makes it so when input Q,K are unit variance, wei will be unit variance too and Softmax will stay diffuse and not saturate too much. Illustration below"
   ]
  },
  {
   "cell_type": "code",
   "execution_count": 51,
   "id": "c18b78f6",
   "metadata": {},
   "outputs": [],
   "source": [
    "k = torch.randn(B,T,head_size)\n",
    "q = torch.randn(B,T,head_size)\n",
    "wei = q @ k.transpose(-2, -1) * head_size**-0.5"
   ]
  },
  {
   "cell_type": "code",
   "execution_count": 52,
   "id": "28b611ce",
   "metadata": {},
   "outputs": [
    {
     "name": "stdout",
     "output_type": "stream",
     "text": [
      "tensor(0.9952)\n",
      "tensor(1.0246)\n",
      "tensor(0.9619)\n"
     ]
    }
   ],
   "source": [
    "print(k.var())\n",
    "print(q.var())\n",
    "print(wei.var())"
   ]
  },
  {
   "cell_type": "code",
   "execution_count": 53,
   "id": "c8460a33",
   "metadata": {},
   "outputs": [
    {
     "data": {
      "text/plain": [
       "tensor([0.0326, 0.0030, 0.1615, 0.0030, 0.8000])"
      ]
     },
     "execution_count": 53,
     "metadata": {},
     "output_type": "execute_result"
    }
   ],
   "source": [
    "torch.softmax(torch.tensor([0.1, -0.2, 0.3, -0.2, 0.5]), dim=-1)\n",
    "torch.softmax(torch.tensor([0.1, -0.2, 0.3, -0.2, 0.5])*8, dim=-1) # gets too peaky, converges to one-hot"
   ]
  },
  {
   "cell_type": "code",
   "execution_count": 54,
   "id": "66ada4d6",
   "metadata": {},
   "outputs": [],
   "source": [
    "class Head(nn.Module):\n",
    "    \"\"\" one head of self-attention \"\"\"\n",
    "    \n",
    "  \n",
    "    def __init__(self, head_size):\n",
    "        super().__init__()\n",
    "        self.key = nn.Linear(n_embd, head_size, bias=False)\n",
    "        self.query = nn.Linear(n_embd, head_size, bias=False)\n",
    "        self.value = nn.Linear(n_embd, head_size, bias=False)\n",
    "        self.register_buffer('tril', torch.tril(torch.ones(block_size, block_size)))\n",
    "\n",
    "#         self.dropout = nn.Dropout(dropout)\n",
    "\n",
    "    def forward(self, idx, targets=None):\n",
    "\n",
    "        # idx and targets are both (B,T) tensor of integers\n",
    "#         logits = self.token_embedding_table(idx) # (B,T,C) every idx pluck correspoinding row from embedding table\n",
    "        # how is this giving the output as logits--> what does logits look like\n",
    "        # How will the embedding table look like # B batch=4, T time is 8 and C channel is vocab size(65 in this case)\n",
    "        # Pluck out the rows, arrange them in B, T, C\n",
    "        # logits are the score for the next in the sequence \n",
    "        # Still confused about what is channel\n",
    "\n",
    "        # creating key and queery\n",
    "        \n",
    "        B,T,C=x.shape\n",
    "        k = key(x)   # (B, T, 16) \n",
    "        q = query(x) # (B, T, 16)\n",
    "        # wei or the affinity\n",
    "        wei =  q @ k.transpose(-2, -1) # (B, T, 16) @ (B, 16, T) ---> (B, T, T)  # transpose last two dimensions\n",
    "         # bash matrix multiplication\n",
    "\n",
    "        tril = torch.tril(torch.ones(T, T))\n",
    "        #wei = torch.zeros((T,T))\n",
    "        wei = wei.masked_fill(tril == 0, float('-inf')) # in the decoder block this will always be present, \n",
    "                                                        # in the encoder block this will be asbset\n",
    "        wei = F.softmax(wei, dim=-1)\n",
    "\n",
    "        v = value(x)\n",
    "        out = wei @ v\n",
    "        \n",
    "        return out\n",
    "\n",
    "    \n"
   ]
  },
  {
   "cell_type": "code",
   "execution_count": null,
   "id": "8f1de318",
   "metadata": {},
   "outputs": [],
   "source": []
  },
  {
   "cell_type": "code",
   "execution_count": 55,
   "id": "5504b626",
   "metadata": {},
   "outputs": [],
   "source": [
    "@torch.no_grad()\n",
    "def estimate_loss():\n",
    "    out = {}\n",
    "    model.eval()\n",
    "    for split in ['train', 'val']:\n",
    "        losses = torch.zeros(eval_iters)\n",
    "        for k in range(eval_iters):\n",
    "            X, Y = get_batch(split)\n",
    "            logits, loss = model(X, Y)\n",
    "            losses[k] = loss.item()\n",
    "        out[split] = losses.mean()\n",
    "    model.train()\n",
    "    return out"
   ]
  },
  {
   "cell_type": "code",
   "execution_count": null,
   "id": "ad6db6a9",
   "metadata": {},
   "outputs": [],
   "source": [
    "  "
   ]
  },
  {
   "cell_type": "code",
   "execution_count": null,
   "id": "1b5baa6d",
   "metadata": {},
   "outputs": [],
   "source": []
  },
  {
   "cell_type": "code",
   "execution_count": null,
   "id": "b4f1b4e2",
   "metadata": {},
   "outputs": [],
   "source": []
  },
  {
   "cell_type": "code",
   "execution_count": null,
   "id": "7f9312b5",
   "metadata": {},
   "outputs": [],
   "source": []
  },
  {
   "cell_type": "code",
   "execution_count": null,
   "id": "37561024",
   "metadata": {},
   "outputs": [],
   "source": []
  },
  {
   "cell_type": "code",
   "execution_count": null,
   "id": "d13f957d",
   "metadata": {},
   "outputs": [],
   "source": []
  },
  {
   "cell_type": "code",
   "execution_count": null,
   "id": "28bc1e40",
   "metadata": {},
   "outputs": [],
   "source": []
  },
  {
   "cell_type": "code",
   "execution_count": null,
   "id": "4203ce8a",
   "metadata": {},
   "outputs": [],
   "source": []
  },
  {
   "cell_type": "code",
   "execution_count": null,
   "id": "61631d2a",
   "metadata": {},
   "outputs": [],
   "source": []
  },
  {
   "cell_type": "code",
   "execution_count": null,
   "id": "c9bbe88f",
   "metadata": {},
   "outputs": [],
   "source": []
  },
  {
   "cell_type": "code",
   "execution_count": null,
   "id": "339e69b9",
   "metadata": {},
   "outputs": [],
   "source": []
  },
  {
   "cell_type": "code",
   "execution_count": null,
   "id": "8ef3413b",
   "metadata": {},
   "outputs": [],
   "source": []
  },
  {
   "cell_type": "code",
   "execution_count": null,
   "id": "375c6308",
   "metadata": {},
   "outputs": [],
   "source": []
  },
  {
   "cell_type": "code",
   "execution_count": null,
   "id": "4e2aaeab",
   "metadata": {},
   "outputs": [],
   "source": []
  },
  {
   "cell_type": "code",
   "execution_count": null,
   "id": "fd4bfcf1",
   "metadata": {},
   "outputs": [],
   "source": []
  },
  {
   "cell_type": "code",
   "execution_count": null,
   "id": "19dab131",
   "metadata": {},
   "outputs": [],
   "source": []
  },
  {
   "cell_type": "code",
   "execution_count": null,
   "id": "b49ceb44",
   "metadata": {},
   "outputs": [],
   "source": []
  },
  {
   "cell_type": "code",
   "execution_count": null,
   "id": "9503bc09",
   "metadata": {},
   "outputs": [],
   "source": []
  },
  {
   "cell_type": "code",
   "execution_count": null,
   "id": "13b53254",
   "metadata": {},
   "outputs": [],
   "source": []
  },
  {
   "cell_type": "code",
   "execution_count": null,
   "id": "75283fa3",
   "metadata": {},
   "outputs": [],
   "source": []
  },
  {
   "cell_type": "code",
   "execution_count": null,
   "id": "35ab3c8d",
   "metadata": {},
   "outputs": [],
   "source": []
  },
  {
   "cell_type": "code",
   "execution_count": null,
   "id": "8fb5c65e",
   "metadata": {},
   "outputs": [],
   "source": []
  },
  {
   "cell_type": "code",
   "execution_count": null,
   "id": "63c56979",
   "metadata": {},
   "outputs": [],
   "source": []
  },
  {
   "cell_type": "code",
   "execution_count": null,
   "id": "c7744dfc",
   "metadata": {},
   "outputs": [],
   "source": []
  },
  {
   "cell_type": "code",
   "execution_count": null,
   "id": "dfea3d52",
   "metadata": {},
   "outputs": [],
   "source": []
  },
  {
   "cell_type": "code",
   "execution_count": null,
   "id": "ce62847c",
   "metadata": {},
   "outputs": [],
   "source": []
  },
  {
   "cell_type": "code",
   "execution_count": null,
   "id": "244c4cea",
   "metadata": {},
   "outputs": [],
   "source": []
  },
  {
   "cell_type": "code",
   "execution_count": null,
   "id": "33ebdbfb",
   "metadata": {},
   "outputs": [],
   "source": []
  },
  {
   "cell_type": "code",
   "execution_count": null,
   "id": "1be6a444",
   "metadata": {},
   "outputs": [],
   "source": []
  },
  {
   "cell_type": "code",
   "execution_count": null,
   "id": "fff14fae",
   "metadata": {},
   "outputs": [],
   "source": []
  },
  {
   "cell_type": "code",
   "execution_count": null,
   "id": "47ce345a",
   "metadata": {},
   "outputs": [],
   "source": []
  },
  {
   "cell_type": "code",
   "execution_count": null,
   "id": "9b50b967",
   "metadata": {},
   "outputs": [],
   "source": []
  },
  {
   "cell_type": "code",
   "execution_count": null,
   "id": "b72e6c4c",
   "metadata": {},
   "outputs": [],
   "source": []
  },
  {
   "cell_type": "code",
   "execution_count": null,
   "id": "dd64a537",
   "metadata": {},
   "outputs": [],
   "source": []
  },
  {
   "cell_type": "code",
   "execution_count": null,
   "id": "e67b547e",
   "metadata": {},
   "outputs": [],
   "source": []
  },
  {
   "cell_type": "code",
   "execution_count": null,
   "id": "f29ce9a6",
   "metadata": {},
   "outputs": [],
   "source": []
  },
  {
   "cell_type": "code",
   "execution_count": null,
   "id": "f24db6b8",
   "metadata": {},
   "outputs": [],
   "source": []
  },
  {
   "cell_type": "code",
   "execution_count": null,
   "id": "0358974a",
   "metadata": {},
   "outputs": [],
   "source": []
  },
  {
   "cell_type": "code",
   "execution_count": null,
   "id": "5245a985",
   "metadata": {},
   "outputs": [],
   "source": []
  },
  {
   "cell_type": "code",
   "execution_count": null,
   "id": "829e964a",
   "metadata": {},
   "outputs": [],
   "source": []
  },
  {
   "cell_type": "code",
   "execution_count": null,
   "id": "eba51c61",
   "metadata": {},
   "outputs": [],
   "source": []
  },
  {
   "cell_type": "code",
   "execution_count": null,
   "id": "3b3a0232",
   "metadata": {},
   "outputs": [],
   "source": []
  },
  {
   "cell_type": "code",
   "execution_count": null,
   "id": "ccb80c30",
   "metadata": {},
   "outputs": [],
   "source": []
  },
  {
   "cell_type": "code",
   "execution_count": null,
   "id": "532767f0",
   "metadata": {},
   "outputs": [],
   "source": []
  },
  {
   "cell_type": "code",
   "execution_count": null,
   "id": "3b70df4f",
   "metadata": {},
   "outputs": [],
   "source": []
  },
  {
   "cell_type": "code",
   "execution_count": null,
   "id": "475c4c4b",
   "metadata": {},
   "outputs": [],
   "source": []
  },
  {
   "cell_type": "code",
   "execution_count": null,
   "id": "105879da",
   "metadata": {},
   "outputs": [],
   "source": []
  },
  {
   "cell_type": "code",
   "execution_count": null,
   "id": "e80d10fd",
   "metadata": {},
   "outputs": [],
   "source": []
  },
  {
   "cell_type": "code",
   "execution_count": null,
   "id": "9cbad373",
   "metadata": {},
   "outputs": [],
   "source": []
  },
  {
   "cell_type": "code",
   "execution_count": null,
   "id": "9039323c",
   "metadata": {},
   "outputs": [],
   "source": []
  },
  {
   "cell_type": "code",
   "execution_count": null,
   "id": "0cddcea1",
   "metadata": {},
   "outputs": [],
   "source": []
  },
  {
   "cell_type": "code",
   "execution_count": null,
   "id": "9a9fb87b",
   "metadata": {},
   "outputs": [],
   "source": []
  },
  {
   "cell_type": "code",
   "execution_count": null,
   "id": "83de4cc0",
   "metadata": {},
   "outputs": [],
   "source": []
  },
  {
   "cell_type": "code",
   "execution_count": null,
   "id": "ffd7a6aa",
   "metadata": {},
   "outputs": [],
   "source": []
  },
  {
   "cell_type": "code",
   "execution_count": null,
   "id": "5187a8fc",
   "metadata": {},
   "outputs": [],
   "source": []
  },
  {
   "cell_type": "code",
   "execution_count": null,
   "id": "81a79739",
   "metadata": {},
   "outputs": [],
   "source": []
  }
 ],
 "metadata": {
  "kernelspec": {
   "display_name": "Python 3",
   "language": "python",
   "name": "python3"
  },
  "language_info": {
   "codemirror_mode": {
    "name": "ipython",
    "version": 3
   },
   "file_extension": ".py",
   "mimetype": "text/x-python",
   "name": "python",
   "nbconvert_exporter": "python",
   "pygments_lexer": "ipython3",
   "version": "3.10.8"
  }
 },
 "nbformat": 4,
 "nbformat_minor": 5
}
